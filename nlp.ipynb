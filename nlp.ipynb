{
 "cells": [
  {
   "cell_type": "markdown",
   "metadata": {},
   "source": [
    "prepare"
   ]
  },
  {
   "cell_type": "code",
   "execution_count": 1,
   "metadata": {},
   "outputs": [],
   "source": [
    "import pandas as pd\n",
    "import numpy as np\n",
    "import tensorflow as tf\n",
    "import matplotlib.pyplot as plt\n",
    "import seaborn as sns"
   ]
  },
  {
   "cell_type": "code",
   "execution_count": 2,
   "metadata": {},
   "outputs": [],
   "source": [
    "import re\n",
    "import random"
   ]
  },
  {
   "cell_type": "code",
   "execution_count": 3,
   "metadata": {},
   "outputs": [],
   "source": [
    "# Import series of helper functions for the notebook\n",
    "\n",
    "from helper_functions import create_tensorboard_callback, plot_loss_curves"
   ]
  },
  {
   "cell_type": "code",
   "execution_count": 4,
   "metadata": {},
   "outputs": [
    {
     "data": {
      "text/plain": [
       "[PhysicalDevice(name='/physical_device:GPU:0', device_type='GPU')]"
      ]
     },
     "execution_count": 4,
     "metadata": {},
     "output_type": "execute_result"
    }
   ],
   "source": [
    "# Check GPU\n",
    "\n",
    "tf.config.list_physical_devices('GPU')"
   ]
  },
  {
   "cell_type": "markdown",
   "metadata": {},
   "source": [
    "Read dataset"
   ]
  },
  {
   "cell_type": "code",
   "execution_count": 5,
   "metadata": {},
   "outputs": [
    {
     "data": {
      "text/html": [
       "<div>\n",
       "<style scoped>\n",
       "    .dataframe tbody tr th:only-of-type {\n",
       "        vertical-align: middle;\n",
       "    }\n",
       "\n",
       "    .dataframe tbody tr th {\n",
       "        vertical-align: top;\n",
       "    }\n",
       "\n",
       "    .dataframe thead th {\n",
       "        text-align: right;\n",
       "    }\n",
       "</style>\n",
       "<table border=\"1\" class=\"dataframe\">\n",
       "  <thead>\n",
       "    <tr style=\"text-align: right;\">\n",
       "      <th></th>\n",
       "      <th>text</th>\n",
       "      <th>label</th>\n",
       "    </tr>\n",
       "  </thead>\n",
       "  <tbody>\n",
       "    <tr>\n",
       "      <th>0</th>\n",
       "      <td>Tuberculous peritonitis: a study comparing cir...</td>\n",
       "      <td>cardiovascular diseases</td>\n",
       "    </tr>\n",
       "    <tr>\n",
       "      <th>1</th>\n",
       "      <td>Clinical and Doppler echocardiographic follow-...</td>\n",
       "      <td>general pathological conditions</td>\n",
       "    </tr>\n",
       "    <tr>\n",
       "      <th>2</th>\n",
       "      <td>Pulmonary embolism presenting as exercise-indu...</td>\n",
       "      <td>nervous system diseases</td>\n",
       "    </tr>\n",
       "    <tr>\n",
       "      <th>3</th>\n",
       "      <td>Pancreatitis. Pancreatitis is a common but rat...</td>\n",
       "      <td>cardiovascular diseases</td>\n",
       "    </tr>\n",
       "    <tr>\n",
       "      <th>4</th>\n",
       "      <td>Xeroderma pigmentosum: review and report of a ...</td>\n",
       "      <td>general pathological conditions</td>\n",
       "    </tr>\n",
       "    <tr>\n",
       "      <th>5</th>\n",
       "      <td>Brain abscess associated with congenital pulmo...</td>\n",
       "      <td>general pathological conditions</td>\n",
       "    </tr>\n",
       "    <tr>\n",
       "      <th>6</th>\n",
       "      <td>Implication of specific DQB1 alleles in geneti...</td>\n",
       "      <td>general pathological conditions</td>\n",
       "    </tr>\n",
       "    <tr>\n",
       "      <th>7</th>\n",
       "      <td>Primary adenocarcinoma of the bladder: favorab...</td>\n",
       "      <td>digestive system diseases</td>\n",
       "    </tr>\n",
       "    <tr>\n",
       "      <th>8</th>\n",
       "      <td>Cancer surveillance in ulcerative colitis. Dur...</td>\n",
       "      <td>digestive system diseases</td>\n",
       "    </tr>\n",
       "    <tr>\n",
       "      <th>9</th>\n",
       "      <td>Activated protooncogenes in human lung tumors ...</td>\n",
       "      <td>digestive system diseases</td>\n",
       "    </tr>\n",
       "  </tbody>\n",
       "</table>\n",
       "</div>"
      ],
      "text/plain": [
       "                                                text  \\\n",
       "0  Tuberculous peritonitis: a study comparing cir...   \n",
       "1  Clinical and Doppler echocardiographic follow-...   \n",
       "2  Pulmonary embolism presenting as exercise-indu...   \n",
       "3  Pancreatitis. Pancreatitis is a common but rat...   \n",
       "4  Xeroderma pigmentosum: review and report of a ...   \n",
       "5  Brain abscess associated with congenital pulmo...   \n",
       "6  Implication of specific DQB1 alleles in geneti...   \n",
       "7  Primary adenocarcinoma of the bladder: favorab...   \n",
       "8  Cancer surveillance in ulcerative colitis. Dur...   \n",
       "9  Activated protooncogenes in human lung tumors ...   \n",
       "\n",
       "                             label  \n",
       "0          cardiovascular diseases  \n",
       "1  general pathological conditions  \n",
       "2          nervous system diseases  \n",
       "3          cardiovascular diseases  \n",
       "4  general pathological conditions  \n",
       "5  general pathological conditions  \n",
       "6  general pathological conditions  \n",
       "7        digestive system diseases  \n",
       "8        digestive system diseases  \n",
       "9        digestive system diseases  "
      ]
     },
     "execution_count": 5,
     "metadata": {},
     "output_type": "execute_result"
    }
   ],
   "source": [
    "df_data=pd.read_csv('data_1A.csv')\n",
    "df_data = df_data.drop(columns=['Unnamed: 0'])\n",
    "df_data.head(10)"
   ]
  },
  {
   "cell_type": "markdown",
   "metadata": {},
   "source": [
    "encode"
   ]
  },
  {
   "cell_type": "code",
   "execution_count": 6,
   "metadata": {},
   "outputs": [],
   "source": [
    "#Encoding Categorical to Numeric \n",
    "\n",
    "label_encode={\"label\": {\"cardiovascular diseases\":0,\"general pathological conditions\" :1,\"nervous system diseases\":2,\n",
    "                       \"digestive system diseases\":3, \"neoplasms\":4}}\n",
    "df_data=df_data.replace(label_encode)"
   ]
  },
  {
   "cell_type": "markdown",
   "metadata": {},
   "source": [
    "cleansing text"
   ]
  },
  {
   "cell_type": "code",
   "execution_count": 7,
   "metadata": {},
   "outputs": [],
   "source": [
    "def cleansing(df_data):\n",
    "    df_clean = df_data.str.lower()\n",
    "    df_clean = [re.sub(r'[^\\w\\s]', '', i) for i in df_clean]\n",
    "    df_clean = [re.sub(r'\\s+', ' ', i) for i in df_clean]\n",
    "    return df_clean"
   ]
  },
  {
   "cell_type": "code",
   "execution_count": 8,
   "metadata": {},
   "outputs": [
    {
     "data": {
      "text/html": [
       "<div>\n",
       "<style scoped>\n",
       "    .dataframe tbody tr th:only-of-type {\n",
       "        vertical-align: middle;\n",
       "    }\n",
       "\n",
       "    .dataframe tbody tr th {\n",
       "        vertical-align: top;\n",
       "    }\n",
       "\n",
       "    .dataframe thead th {\n",
       "        text-align: right;\n",
       "    }\n",
       "</style>\n",
       "<table border=\"1\" class=\"dataframe\">\n",
       "  <thead>\n",
       "    <tr style=\"text-align: right;\">\n",
       "      <th></th>\n",
       "      <th>label</th>\n",
       "      <th>clean_text</th>\n",
       "    </tr>\n",
       "  </thead>\n",
       "  <tbody>\n",
       "    <tr>\n",
       "      <th>0</th>\n",
       "      <td>0</td>\n",
       "      <td>tuberculous peritonitis a study comparing cirr...</td>\n",
       "    </tr>\n",
       "    <tr>\n",
       "      <th>1</th>\n",
       "      <td>1</td>\n",
       "      <td>clinical and doppler echocardiographic followu...</td>\n",
       "    </tr>\n",
       "    <tr>\n",
       "      <th>2</th>\n",
       "      <td>2</td>\n",
       "      <td>pulmonary embolism presenting as exerciseinduc...</td>\n",
       "    </tr>\n",
       "    <tr>\n",
       "      <th>3</th>\n",
       "      <td>0</td>\n",
       "      <td>pancreatitis pancreatitis is a common but rath...</td>\n",
       "    </tr>\n",
       "    <tr>\n",
       "      <th>4</th>\n",
       "      <td>1</td>\n",
       "      <td>xeroderma pigmentosum review and report of a c...</td>\n",
       "    </tr>\n",
       "  </tbody>\n",
       "</table>\n",
       "</div>"
      ],
      "text/plain": [
       "   label                                         clean_text\n",
       "0      0  tuberculous peritonitis a study comparing cirr...\n",
       "1      1  clinical and doppler echocardiographic followu...\n",
       "2      2  pulmonary embolism presenting as exerciseinduc...\n",
       "3      0  pancreatitis pancreatitis is a common but rath...\n",
       "4      1  xeroderma pigmentosum review and report of a c..."
      ]
     },
     "execution_count": 8,
     "metadata": {},
     "output_type": "execute_result"
    }
   ],
   "source": [
    "df_data['clean_text'] = cleansing(df_data['text'])\n",
    "df_data.drop('text', axis=1, inplace=True)\n",
    "df_data.head(5)"
   ]
  },
  {
   "cell_type": "markdown",
   "metadata": {},
   "source": [
    "Exploratory Data Analysis"
   ]
  },
  {
   "cell_type": "code",
   "execution_count": 9,
   "metadata": {},
   "outputs": [
    {
     "name": "stdout",
     "output_type": "stream",
     "text": [
      "[0 1 2 3 4]\n"
     ]
    }
   ],
   "source": [
    "# Check unique\n",
    "\n",
    "unique_sentiments = df_data['label'].unique()\n",
    "print(unique_sentiments)"
   ]
  },
  {
   "cell_type": "code",
   "execution_count": 10,
   "metadata": {},
   "outputs": [
    {
     "data": {
      "image/png": "[encoded data removed]",
      "text/plain": [
       "<Figure size 1000x600 with 1 Axes>"
      ]
     },
     "metadata": {},
     "output_type": "display_data"
    }
   ],
   "source": [
    "# Check the distribution of classes\n",
    "\n",
    "plt.figure(figsize=(10, 6))\n",
    "sns.countplot(x='label', data=df_data)\n",
    "plt.xticks(rotation=45)\n",
    "plt.title('most class of text count')\n",
    "plt.show()"
   ]
  },
  {
   "cell_type": "code",
   "execution_count": 11,
   "metadata": {},
   "outputs": [
    {
     "data": {
      "image/png": "[encoded data removed]",
      "text/plain": [
       "<Figure size 1000x600 with 1 Axes>"
      ]
     },
     "metadata": {},
     "output_type": "display_data"
    }
   ],
   "source": [
    "# Check the distribution of text lengths\n",
    "\n",
    "df_data['text_length'] = df_data['clean_text'].apply(len)\n",
    "plt.figure(figsize=(10, 6))\n",
    "sns.histplot(df_data['text_length'])\n",
    "plt.xlabel('Text Length')\n",
    "plt.ylabel('Frequency')\n",
    "plt.title('Distribution of Text Lengths')\n",
    "plt.show()"
   ]
  },
  {
   "cell_type": "code",
   "execution_count": 12,
   "metadata": {},
   "outputs": [
    {
     "name": "stdout",
     "output_type": "stream",
     "text": [
      "Target: 3 (digestive system diseases)\n",
      "text:\n",
      "attributes and survival patterns of multiple primary cutaneous malignant melanoma from a series of 1495 patients with primary cutaneous malignant melanoma pcmm 26 patients 173 had multiple primary cutaneous malignant melanoma mpcmm this report describes the attributes and survival patterns in this small but important subgroup of patients with pcmm of 26 patients 23 had two primaries two had three primaries and one had six primaries five patients had synchronous and 21 patients had metachronous mpcmm the median interval between the occurrence of the first and subsequent pcmm in these patients was 193 years the estimated 5year survival rate from the first melanoma was 835 that from the last melanoma was 531 in summary mpcmm is a distinct biologic phenomenon a second or subsequent malignant melanoma should be treated like a primary melanoma \n",
      "\n",
      "---\n",
      "\n",
      "Target: 2 (nervous system diseases)\n",
      "text:\n",
      "the effect of abdominal surgery on the serum concentration of the tumourassociated antigen ca 125 the ca 125 assay is used to monitor the course of disease in women with adenocarcinoma of the genital tract we measured serum ca 125 levels longitudinally in three different groups of patients who had normal serum ca 125 levels less than or equal to 16 uml before extensive intraperitoneal abdominal surgery group 1 secondlook laparotomy in 28 women with ovarian cancer group 2 radical hysterectomy in 42 patients with cervical cancer group 3 13 men and one woman who had aortic surgery for atherosclerotic occlusive disease or aneurysm formation following surgery rising serum ca 125 levels were observed in 69 out of the 84 patients 82 irrespective of the primary diagnosis type of operation or sex the highest levels were found during the second week after the operation range 3336 uml and decreased gradually thereafter to become normal at 8 weeks after surgery it was concluded that abdominal surgery interferes with the specificity of ca 125 as a tumour marker during the early postoperative period \n",
      "\n",
      "---\n",
      "\n",
      "Target: 3 (digestive system diseases)\n",
      "text:\n",
      "dna sequences 3 of the ig h chain cluster rearrange in mouse b cell lines a mouse myeloma cell line mpc11 igg2b kappa and variants derived from it have been used to study dna rearrangements that occur at the ig h chain locus one variant f55 has acquired both vh gene and c epsilon gene rearrangements through genomic southern blot analysis initially directed to mapping the c epsilon gene rearrangement we observed that the vh region rearrangement was linked through an inversion event to sequences that originate 3 of the ch cluster ie 3 of the c alpha gene subsequent studies have shown that dna rearrangements within the region 3 of the c alpha gene are detected in several other mouse myeloma and hybridoma cell lines and are not associated with the expression of specific isotypes \n",
      "\n",
      "---\n",
      "\n"
     ]
    }
   ],
   "source": [
    "# visualize some random training examples\n",
    "# create random indexes not higher than the total number of samples\n",
    "\n",
    "random_index = random.randint(0, len(df_data) - 3)\n",
    "for row in df_data[[\"clean_text\", \"label\"]].iloc[random_index:random_index+3].itertuples():\n",
    "    _, clean_text, label = row\n",
    "    sentiment_label = \"\"\n",
    "    if label == 0:\n",
    "        sentiment_label = \"(cardiovascular diseases)\"\n",
    "    elif label == 1:\n",
    "        sentiment_label = \"(general pathological conditions)\"\n",
    "    elif label == 2:\n",
    "        sentiment_label = \"(nervous system diseases)\"\n",
    "    elif label == 3:\n",
    "        sentiment_label = \"(digestive system diseases)\"\n",
    "    elif label == 4:\n",
    "        sentiment_label = \"(neoplasms)\"\n",
    "    \n",
    "    print(f\"Target: {label} {sentiment_label}\")\n",
    "    print(f\"text:\\n{clean_text}\\n\")\n",
    "    print(\"---\\n\")"
   ]
  },
  {
   "cell_type": "markdown",
   "metadata": {},
   "source": [
    "split test"
   ]
  },
  {
   "cell_type": "code",
   "execution_count": 13,
   "metadata": {},
   "outputs": [],
   "source": [
    "from sklearn.model_selection import train_test_split"
   ]
  },
  {
   "cell_type": "code",
   "execution_count": 14,
   "metadata": {},
   "outputs": [],
   "source": [
    "x_train, x_test, y_train, y_test = train_test_split(df_data['clean_text'].to_numpy(),df_data['label'].to_numpy(),\n",
    "    test_size=0.2,\n",
    "    random_state=42,\n",
    "    stratify=df_data['label']\n",
    ")"
   ]
  },
  {
   "cell_type": "code",
   "execution_count": 15,
   "metadata": {},
   "outputs": [
    {
     "data": {
      "text/plain": [
       "(2887, 722, 2887, 722)"
      ]
     },
     "execution_count": 15,
     "metadata": {},
     "output_type": "execute_result"
    }
   ],
   "source": [
    "# Check the lengths\n",
    "\n",
    "len(x_train), len(x_test), len(y_train), len(y_test)"
   ]
  },
  {
   "cell_type": "code",
   "execution_count": 16,
   "metadata": {},
   "outputs": [
    {
     "data": {
      "text/plain": [
       "(array(['polycystic ovary syndrome polycystic ovary syndrome is a disorder of unknown cause characterized by anovulation hyperandrogenism and gonadotropin secretory abnormalities producing oligoovulation or anovulation hyperinsulinemia and insulin resistance are important features of this syndrome because other causes of androgen excess may produce similar clinical and biochemical findings pco remains a diagnosis of exclusion treatment is directed toward relieving symptoms of hyperandrogenemia in order to stimulate ovulation correcting obesity and inducing regular menses to reduce the risk of endometrial cancer ',\n",
       "        'coronary dynamics and mental arithmetic stress in humans incidence and mechanisms of psychological stressinduced myocardial ischemia were investigated in a population of 63 patients using mental arithmetic fifty subjects group 1 were selected as a consecutive population of ischemic patients with electrocardiographic documentation of ischemia at rest on effort or both mental arithmetic induced increases in heart rate blood pressure and ratepressure product in all patients transient ischemic electrocardiographic changes occurred in 22 patients 44 positive mental arithmetic the majority of whom had both resting and exercise angina in negative mental arithmetic tests peak ratepressure product was always lower than that achieved during exercise mean sd 119 3 versus 213 5 p less than 001 of the 22 patients with positive mental arithmetic tests ischemia occurred in only six at a ratepressure product equal to or more than the one achieved during exercise 211 5 versus 194 4 p less than 001 suggesting an increase in myocardial o2 demand exceeding the limited increase in flow in the remaining 16 patients ratepressure product values were significantly lower 148 3 versus 227 6 p less than 001 suggesting a primary reduction in coronary blood flow that is probably related to an increase in coronary tone to assess the possible site of such a vasoconstriction the effect of mental arithmetic on large coronary artery diameter was tested in 13 additional unselected patients group 2 undergoing coronary angiography for a chest pain syndrome ',\n",
       "        'immunophenotyping in the management of gastric lymphoma primary gastric lymphoma is a rare tumor in which surgical resection plays a major role in improving the response rate and reducing the incidence of bleeding and perforation after chemotherapy in 17 consecutive patients the diagnosis of gastric lymphoma was made by immunophenotyping snapfrozen endoscopic biopsy specimens all neoplasms were bcell lymphomas pan b surface marker antigens were present in all patients levels of ki67 a nuclear marker of tumor proliferation were greater than 45 in two of the four patients who died after progression of their lymphoma all patients alive had ki67 levels of less than 30 a lower proliferation index as measured by ki67 appears to be associated with better prognosis ten of 11 patients treated by resection prior to chemotherapy had no complications immunophenotyping is the key in the differential diagnosis when considering malignant lymphoma with gastric carcinoma and benign conditions such as pseudolymphoma '],\n",
       "       dtype=object),\n",
       " array([3, 2, 3], dtype=int64))"
      ]
     },
     "execution_count": 16,
     "metadata": {},
     "output_type": "execute_result"
    }
   ],
   "source": [
    "# View the sample training sentences and their labels\n",
    "\n",
    "x_train[:3], y_train[:3]"
   ]
  },
  {
   "cell_type": "markdown",
   "metadata": {},
   "source": [
    "Text vectorization (tokenization)"
   ]
  },
  {
   "cell_type": "code",
   "execution_count": 17,
   "metadata": {},
   "outputs": [
    {
     "data": {
      "text/plain": [
       "178"
      ]
     },
     "execution_count": 17,
     "metadata": {},
     "output_type": "execute_result"
    }
   ],
   "source": [
    "# Find average number of tokens words in training\n",
    "round(sum([len(i.split()) for i in x_train])/len(x_train))"
   ]
  },
  {
   "cell_type": "code",
   "execution_count": 18,
   "metadata": {},
   "outputs": [],
   "source": [
    "from tensorflow.keras.layers import TextVectorization\n",
    "\n",
    "# Setup text vectorization with custom variables\n",
    "max_vocab_length = 68000 # max number of words in vocabulary\n",
    "max_length = 50 # max length \n",
    "\n",
    "text_vectorizer = TextVectorization(max_tokens=max_vocab_length,\n",
    "                                    output_mode=\"int\",\n",
    "                                    output_sequence_length=max_length)"
   ]
  },
  {
   "cell_type": "code",
   "execution_count": 19,
   "metadata": {},
   "outputs": [],
   "source": [
    "# Fit the text vectorizer to the training text\n",
    "\n",
    "x_train = np.array(x_train)\n",
    "text_vectorizer.adapt(x_train)"
   ]
  },
  {
   "cell_type": "code",
   "execution_count": 20,
   "metadata": {},
   "outputs": [
    {
     "data": {
      "text/plain": [
       "<tf.Tensor: shape=(1, 50), dtype=int64, numpy=\n",
       "array([[    1,     7,     1,     5, 18613, 12084,     0,     0,     0,\n",
       "            0,     0,     0,     0,     0,     0,     0,     0,     0,\n",
       "            0,     0,     0,     0,     0,     0,     0,     0,     0,\n",
       "            0,     0,     0,     0,     0,     0,     0,     0,     0,\n",
       "            0,     0,     0,     0,     0,     0,     0,     0,     0,\n",
       "            0,     0,     0,     0,     0]], dtype=int64)>"
      ]
     },
     "execution_count": 20,
     "metadata": {},
     "output_type": "execute_result"
    }
   ],
   "source": [
    "# Create sample sentence and tokenize it\n",
    "\n",
    "sample_sentence = \"There's a flood in my street!\"\n",
    "text_vectorizer([sample_sentence])"
   ]
  },
  {
   "cell_type": "code",
   "execution_count": 21,
   "metadata": {},
   "outputs": [
    {
     "name": "stdout",
     "output_type": "stream",
     "text": [
      "Original text:\n",
      "continuous arteriovenous rewarming experimental results and thermodynamic model simulation of treatment for hypothermia we evaluated a technique for treating hypothermia that uses extracorporeal circulation but does not require heparin or pump assistance hypothermia to 295 degrees c was induced in eight anesthetized dogs and thermistors placed in the pulmonary artery liver bladder esophagus rectum muscle and skin four experimental animals were rewarmed by creating a fistula which connected arterial and venous femoral lines to an interposed countercurrent heat exchanger external rewarming was used in four controls bleeding time bt coagulation profile pt ptt tt and cardiac output co were measured during rewarming core temperature t rose significantly faster with cavr 000001 average time to rewarming was 45 min vs 4 hrs in controls haptoglobin platelet fibrinogen and fibrin split product levels were unaffected continuous arteriovenous rewarming cavr improved t co bt and coagulation profile faster than any method yet reported not requiring heparin or cardiac bypass the application of cavr in posttraumatic hypothermia warrants further investigation       \n",
      "\n",
      "Vectorized version:\n"
     ]
    },
    {
     "data": {
      "text/plain": [
       "<tf.Tensor: shape=(1, 50), dtype=int64, numpy=\n",
       "array([[  687,  1502,  3820,   670,    54,     4, 16123,   424,  9902,\n",
       "            3,    35,    12,  2146,    33,   304,     7,   370,    12,\n",
       "         1785,  2146,    15,  3788,  1627,  1382,    44,   652,    27,\n",
       "         1537,   709,    14,  1707,  3758,  2146,     8,  7155,   950,\n",
       "          591,    10,   363,     5,   332,  1914,   590,     4, 11954,\n",
       "         1290,     5,     2,   152,    81]], dtype=int64)>"
      ]
     },
     "execution_count": 21,
     "metadata": {},
     "output_type": "execute_result"
    }
   ],
   "source": [
    "# Choose a random sentence from the training dataset and tokenize it\n",
    "\n",
    "random_sentence = random.choice(x_train)\n",
    "print(f\"Original text:\\n{random_sentence}\\\n",
    "      \\n\\nVectorized version:\")\n",
    "text_vectorizer([random_sentence])"
   ]
  },
  {
   "cell_type": "markdown",
   "metadata": {},
   "source": [
    "Creating an Embedding using an Embedding Layer"
   ]
  },
  {
   "cell_type": "code",
   "execution_count": 22,
   "metadata": {},
   "outputs": [
    {
     "data": {
      "text/plain": [
       "<keras.layers.core.embedding.Embedding at 0x25e7328d190>"
      ]
     },
     "execution_count": 22,
     "metadata": {},
     "output_type": "execute_result"
    }
   ],
   "source": [
    "from tensorflow.keras import layers\n",
    "\n",
    "embedding = layers.Embedding(input_dim=max_vocab_length, # set input shape\n",
    "                             output_dim=128, # set size of embedding vector\n",
    "                             embeddings_initializer=\"uniform\", # default, intialize randomly\n",
    "                             input_length=max_length, # how long is each input\n",
    "                             name=\"embedding\") \n",
    "\n",
    "embedding"
   ]
  },
  {
   "cell_type": "code",
   "execution_count": 23,
   "metadata": {},
   "outputs": [
    {
     "name": "stdout",
     "output_type": "stream",
     "text": [
      "Original text:\n",
      "posterior nuchal cystic hygroma published erratum appears in clin perinatol 1990 dec174viii when cystic hygroma is detected antenatally the prognosis is usually poor and intrauterine or neonatal death are common this seems especially true for turner syndrome the largest etiologic group associated with cystic hygroma and the lethal multiple pterygium syndromes however some fetuses with turner syndrome and also with certain other diagnoses had a good outcome and further study of these conditions is required before more definite prognostic indicators and risk figures will be available increasing numbers of syndromes are being reported in association with fetal cystic hygroma and lymphedema may be a common element in their pathogenesis mild shortlived or otherwise uncomplicated jugular lymphatic obstruction may be a cause of the neck webbing seen in the noonan familial pterygium colli and distichiasislymphedema syndromes with earlier and more widespread fetal ultrasonography and more sensitive techniques a greater number of resolving fetal cases may be reported this may clarify the natural history and provide prospective criteria for the conditions that have better prognoses the associated conditions include autosomal dominant and recessive genetic traits careful ultrasound study for other malformations polyhydramnios and fetal growth parameters a fetal karyotype and if appropriate pathologic examination are required to determine the etiology and recurrence risk the parents should be asked about exposure to alcohol or other agents and should be examined for signs of pterygium colli or noonan syndrome if the decision is made to continue the pregnancy and there is doubt about the natural history and prognosis multidisciplinary supervision should include social services neonatology pediatric surgery cardiology and genetics specialties when indicated       \n",
      "\n",
      "Embedded version:\n"
     ]
    },
    {
     "data": {
      "text/plain": [
       "<tf.Tensor: shape=(1, 50, 128), dtype=float32, numpy=\n",
       "array([[[-0.00586817, -0.02591968,  0.00034708, ...,  0.01580973,\n",
       "         -0.02715619, -0.00199605],\n",
       "        [-0.02161232,  0.02966306, -0.00423169, ..., -0.02349964,\n",
       "          0.01803902, -0.0214098 ],\n",
       "        [-0.0487933 , -0.04997355, -0.02838928, ...,  0.01764831,\n",
       "          0.02361304,  0.00879205],\n",
       "        ...,\n",
       "        [-0.02950379,  0.0462457 , -0.01789059, ..., -0.02031417,\n",
       "         -0.0208772 , -0.04833288],\n",
       "        [-0.0302542 , -0.02328177,  0.00418866, ..., -0.03512411,\n",
       "         -0.03765611, -0.04305565],\n",
       "        [ 0.02562609, -0.00211345,  0.04750241, ..., -0.04223474,\n",
       "          0.04756758,  0.04050508]]], dtype=float32)>"
      ]
     },
     "execution_count": 23,
     "metadata": {},
     "output_type": "execute_result"
    }
   ],
   "source": [
    "# Get a random sentence from training set\n",
    "\n",
    "random_sentence = random.choice(x_train)\n",
    "print(f\"Original text:\\n{random_sentence}\\\n",
    "      \\n\\nEmbedded version:\")\n",
    "\n",
    "# Embed the random sentence (turn it into numerical representation)\n",
    "sample_embed = embedding(text_vectorizer([random_sentence]))\n",
    "sample_embed"
   ]
  },
  {
   "cell_type": "code",
   "execution_count": 24,
   "metadata": {},
   "outputs": [
    {
     "data": {
      "text/plain": [
       "<tf.Tensor: shape=(128,), dtype=float32, numpy=\n",
       "array([-0.00586817, -0.02591968,  0.00034708, -0.01662426, -0.02487781,\n",
       "       -0.04828553,  0.04342239,  0.02189166,  0.01202212, -0.02789721,\n",
       "       -0.03012874, -0.02801366,  0.01889325, -0.04405996, -0.00549662,\n",
       "        0.03647039, -0.01166261, -0.0360814 ,  0.01845229, -0.03441453,\n",
       "       -0.02967168,  0.03227265,  0.04638631,  0.03928075,  0.04507712,\n",
       "        0.0072518 ,  0.01310155,  0.0326085 , -0.04715288,  0.01226175,\n",
       "       -0.00316818, -0.04255771, -0.01596109, -0.02888017, -0.02812392,\n",
       "        0.04509722, -0.02138457,  0.04217627, -0.02834356, -0.00042029,\n",
       "       -0.02101803, -0.01116695,  0.01597706, -0.00717663, -0.03511866,\n",
       "       -0.03892782, -0.04057109,  0.04091299, -0.04718148,  0.00394498,\n",
       "       -0.01106297,  0.03186288, -0.01075181,  0.04132   ,  0.01249274,\n",
       "        0.00355781,  0.03060652,  0.04040405,  0.02856727,  0.00825004,\n",
       "       -0.02697312,  0.03255785, -0.00699491,  0.02835883, -0.02758682,\n",
       "        0.03124228, -0.03192451, -0.02943243, -0.0471929 ,  0.02549703,\n",
       "        0.00444225,  0.02876568,  0.03266599,  0.01640779,  0.00989373,\n",
       "        0.00630816,  0.00618432, -0.04553944, -0.01503367, -0.03177363,\n",
       "       -0.008039  ,  0.0489958 ,  0.0232257 , -0.03291011,  0.03694507,\n",
       "        0.00345866, -0.0170253 ,  0.03448519, -0.0162837 ,  0.04873807,\n",
       "        0.02626181, -0.02556998, -0.01369395,  0.00914761, -0.0164693 ,\n",
       "       -0.01089454,  0.03680432, -0.00271885, -0.04152711, -0.00136635,\n",
       "        0.03241521, -0.04906012,  0.03945369,  0.03556607,  0.04502556,\n",
       "        0.04768009,  0.03484618, -0.00346177,  0.00107358,  0.04187591,\n",
       "        0.00280736,  0.03701626, -0.00946684, -0.0197435 , -0.04067804,\n",
       "        0.0355811 , -0.03667402,  0.04512477,  0.04093435,  0.01028434,\n",
       "        0.00187892, -0.02258948,  0.02943501, -0.0117649 , -0.00241737,\n",
       "        0.01580973, -0.02715619, -0.00199605], dtype=float32)>"
      ]
     },
     "execution_count": 24,
     "metadata": {},
     "output_type": "execute_result"
    }
   ],
   "source": [
    "# Check out a single token's embedding\n",
    "\n",
    "sample_embed[0][0]"
   ]
  },
  {
   "cell_type": "markdown",
   "metadata": {},
   "source": [
    "LSTM Model"
   ]
  },
  {
   "cell_type": "code",
   "execution_count": 25,
   "metadata": {},
   "outputs": [],
   "source": [
    "# Set random seed and embedding layer\n",
    "tf.random.set_seed(42)\n",
    "\n",
    "from tensorflow.keras import layers\n",
    "\n",
    "inputs = layers.Input(shape=(1,), dtype=\"string\")\n",
    "x = text_vectorizer(inputs)\n",
    "x = embedding(x)\n",
    "\n",
    "# x = layers.LSTM\n",
    "x = layers.LSTM(64)(x)\n",
    "\n",
    "# x = layers.Dense\n",
    "outputs = layers.Dense(5, activation=\"softmax\")(x)\n",
    "\n",
    "model = tf.keras.Model(inputs, outputs, name=\"model_LSTM\")"
   ]
  },
  {
   "cell_type": "code",
   "execution_count": 26,
   "metadata": {},
   "outputs": [],
   "source": [
    "# Compile model\n",
    "model.compile(loss=\"sparse_categorical_crossentropy\",\n",
    "                optimizer=tf.keras.optimizers.Adam(),\n",
    "                metrics=[\"accuracy\"])"
   ]
  },
  {
   "cell_type": "code",
   "execution_count": 27,
   "metadata": {},
   "outputs": [
    {
     "name": "stdout",
     "output_type": "stream",
     "text": [
      "Model: \"model_LSTM\"\n",
      "_________________________________________________________________\n",
      " Layer (type)                Output Shape              Param #   \n",
      "=================================================================\n",
      " input_1 (InputLayer)        [(None, 1)]               0         \n",
      "                                                                 \n",
      " text_vectorization (TextVec  (None, 50)               0         \n",
      " torization)                                                     \n",
      "                                                                 \n",
      " embedding (Embedding)       (None, 50, 128)           8704000   \n",
      "                                                                 \n",
      " lstm (LSTM)                 (None, 64)                49408     \n",
      "                                                                 \n",
      " dense (Dense)               (None, 5)                 325       \n",
      "                                                                 \n",
      "=================================================================\n",
      "Total params: 8,753,733\n",
      "Trainable params: 8,753,733\n",
      "Non-trainable params: 0\n",
      "_________________________________________________________________\n"
     ]
    }
   ],
   "source": [
    "# Get a summary of the model\n",
    "model.summary()"
   ]
  },
  {
   "cell_type": "code",
   "execution_count": 28,
   "metadata": {},
   "outputs": [],
   "source": [
    "# Create ModelCheckpoint callback\n",
    "from tensorflow.keras.callbacks import ModelCheckpoint\n",
    "\n",
    "checkpoint_path = \"./best_model.LSTM\"\n",
    "model_checkpoint = ModelCheckpoint(checkpoint_path, \n",
    "                                   monitor='val_accuracy', \n",
    "                                   save_best_only=True, \n",
    "                                   mode='max', \n",
    "                                   verbose=1)"
   ]
  },
  {
   "cell_type": "code",
   "execution_count": 29,
   "metadata": {},
   "outputs": [
    {
     "name": "stdout",
     "output_type": "stream",
     "text": [
      "Saving TensorBoard log files to: ./logs/LSTM_model/20240222-111249\n",
      "Epoch 1/5\n",
      "90/91 [============================>.] - ETA: 0s - loss: 1.5534 - accuracy: 0.3205\n",
      "Epoch 1: val_accuracy improved from -inf to 0.32548, saving model to .\\best_model.LSTM\n"
     ]
    },
    {
     "name": "stderr",
     "output_type": "stream",
     "text": [
      "WARNING:absl:Found untraced functions such as lstm_cell_layer_call_fn, lstm_cell_layer_call_and_return_conditional_losses while saving (showing 2 of 2). These functions will not be directly callable after loading.\n"
     ]
    },
    {
     "name": "stdout",
     "output_type": "stream",
     "text": [
      "INFO:tensorflow:Assets written to: .\\best_model.LSTM\\assets\n"
     ]
    },
    {
     "name": "stderr",
     "output_type": "stream",
     "text": [
      "INFO:tensorflow:Assets written to: .\\best_model.LSTM\\assets\n"
     ]
    },
    {
     "name": "stdout",
     "output_type": "stream",
     "text": [
      "91/91 [==============================] - 11s 62ms/step - loss: 1.5535 - accuracy: 0.3197 - val_loss: 1.5275 - val_accuracy: 0.3255\n",
      "Epoch 2/5\n",
      "88/91 [============================>.] - ETA: 0s - loss: 1.2355 - accuracy: 0.4918\n",
      "Epoch 2: val_accuracy improved from 0.32548 to 0.47230, saving model to .\\best_model.LSTM\n"
     ]
    },
    {
     "name": "stderr",
     "output_type": "stream",
     "text": [
      "WARNING:absl:Found untraced functions such as lstm_cell_layer_call_fn, lstm_cell_layer_call_and_return_conditional_losses while saving (showing 2 of 2). These functions will not be directly callable after loading.\n"
     ]
    },
    {
     "name": "stdout",
     "output_type": "stream",
     "text": [
      "INFO:tensorflow:Assets written to: .\\best_model.LSTM\\assets\n"
     ]
    },
    {
     "name": "stderr",
     "output_type": "stream",
     "text": [
      "INFO:tensorflow:Assets written to: .\\best_model.LSTM\\assets\n"
     ]
    },
    {
     "name": "stdout",
     "output_type": "stream",
     "text": [
      "91/91 [==============================] - 4s 45ms/step - loss: 1.2273 - accuracy: 0.4977 - val_loss: 1.3164 - val_accuracy: 0.4723\n",
      "Epoch 3/5\n",
      "88/91 [============================>.] - ETA: 0s - loss: 0.6781 - accuracy: 0.7884\n",
      "Epoch 3: val_accuracy did not improve from 0.47230\n",
      "91/91 [==============================] - 1s 14ms/step - loss: 0.6812 - accuracy: 0.7863 - val_loss: 1.4535 - val_accuracy: 0.4460\n",
      "Epoch 4/5\n",
      "87/91 [===========================>..] - ETA: 0s - loss: 0.3765 - accuracy: 0.8915\n",
      "Epoch 4: val_accuracy did not improve from 0.47230\n",
      "91/91 [==============================] - 1s 13ms/step - loss: 0.3770 - accuracy: 0.8912 - val_loss: 1.6768 - val_accuracy: 0.4460\n",
      "Epoch 5/5\n",
      "90/91 [============================>.] - ETA: 0s - loss: 0.2530 - accuracy: 0.9257\n",
      "Epoch 5: val_accuracy did not improve from 0.47230\n",
      "91/91 [==============================] - 1s 13ms/step - loss: 0.2537 - accuracy: 0.9255 - val_loss: 1.9352 - val_accuracy: 0.4668\n"
     ]
    }
   ],
   "source": [
    "# Fit model\n",
    "SAVE_DIR = \"./logs\"\n",
    "model_history = model.fit(x_train,\n",
    "                          y_train,\n",
    "                          epochs=5,\n",
    "                          validation_data=(x_test, y_test),\n",
    "                          callbacks=[create_tensorboard_callback(SAVE_DIR, \"LSTM_model\"), model_checkpoint])"
   ]
  },
  {
   "cell_type": "code",
   "execution_count": 30,
   "metadata": {},
   "outputs": [
    {
     "data": {
      "image/png": "[encoded data removed]",
      "text/plain": [
       "<Figure size 640x480 with 1 Axes>"
      ]
     },
     "metadata": {},
     "output_type": "display_data"
    },
    {
     "data": {
      "image/png": "[encoded data removed]",
      "text/plain": [
       "<Figure size 640x480 with 1 Axes>"
      ]
     },
     "metadata": {},
     "output_type": "display_data"
    }
   ],
   "source": [
    "plot_loss_curves(model_history)\n",
    "plt.show()"
   ]
  },
  {
   "cell_type": "code",
   "execution_count": 31,
   "metadata": {},
   "outputs": [
    {
     "name": "stdout",
     "output_type": "stream",
     "text": [
      "23/23 [==============================] - 0s 4ms/step\n"
     ]
    },
    {
     "data": {
      "text/plain": [
       "((722, 5),\n",
       " array([[2.1943776e-03, 7.6941073e-01, 2.0336021e-02, 1.7987397e-01,\n",
       "         2.8184880e-02],\n",
       "        [3.2691839e-01, 4.8647034e-01, 3.6613144e-02, 1.3198850e-01,\n",
       "         1.8009748e-02],\n",
       "        [1.5266282e-02, 1.9879603e-01, 6.3207173e-01, 2.7070798e-02,\n",
       "         1.2679520e-01],\n",
       "        [1.4508022e-03, 7.7291705e-02, 9.1072375e-01, 1.6248192e-03,\n",
       "         8.9089777e-03],\n",
       "        [3.2913948e-03, 5.2392691e-02, 1.5445357e-03, 9.2433399e-01,\n",
       "         1.8437432e-02],\n",
       "        [2.1429127e-03, 5.2395903e-02, 9.2942673e-01, 2.1062864e-03,\n",
       "         1.3928224e-02],\n",
       "        [1.0005216e-03, 1.9973425e-02, 9.6659541e-01, 1.0066719e-03,\n",
       "         1.1423972e-02],\n",
       "        [1.3808816e-02, 9.9551370e-03, 2.2601521e-02, 4.4875417e-02,\n",
       "         9.0875912e-01],\n",
       "        [1.2387138e-02, 1.8021984e-01, 7.2187734e-01, 1.3409392e-02,\n",
       "         7.2106339e-02],\n",
       "        [7.6094409e-04, 1.1327417e-02, 3.5941676e-04, 9.8146147e-01,\n",
       "         6.0907612e-03]], dtype=float32))"
      ]
     },
     "execution_count": 31,
     "metadata": {},
     "output_type": "execute_result"
    }
   ],
   "source": [
    "# Make predictions on the validation data\n",
    "\n",
    "model_pred_probs = model.predict(x_test)\n",
    "model_pred_probs.shape, model_pred_probs[:10]"
   ]
  },
  {
   "cell_type": "code",
   "execution_count": 32,
   "metadata": {},
   "outputs": [
    {
     "data": {
      "text/plain": [
       "<tf.Tensor: shape=(10, 5), dtype=float32, numpy=\n",
       "array([[0., 1., 0., 0., 0.],\n",
       "       [0., 0., 0., 0., 0.],\n",
       "       [0., 0., 1., 0., 0.],\n",
       "       [0., 0., 1., 0., 0.],\n",
       "       [0., 0., 0., 1., 0.],\n",
       "       [0., 0., 1., 0., 0.],\n",
       "       [0., 0., 1., 0., 0.],\n",
       "       [0., 0., 0., 0., 1.],\n",
       "       [0., 0., 1., 0., 0.],\n",
       "       [0., 0., 0., 1., 0.]], dtype=float32)>"
      ]
     },
     "execution_count": 32,
     "metadata": {},
     "output_type": "execute_result"
    }
   ],
   "source": [
    "# Convert prediction probabilities to prediction classes\n",
    "\n",
    "model_preds = tf.squeeze(tf.round(model_pred_probs))\n",
    "model_preds[:10]"
   ]
  },
  {
   "cell_type": "code",
   "execution_count": 33,
   "metadata": {},
   "outputs": [],
   "source": [
    "from sklearn.metrics import accuracy_score, precision_recall_fscore_support\n",
    "\n",
    "def calculate_results(y_true, y_pred):\n",
    "\n",
    "    # Convert one-hot encoded labels to class labels\n",
    "    y_true_classes = np.argmax(y_true, axis=1) if len(y_true.shape) > 1 else y_true\n",
    "    y_pred_classes = np.argmax(y_pred, axis=1) if len(y_pred.shape) > 1 else y_pred\n",
    "\n",
    "    # Calculate model accuracy\n",
    "    model_accuracy = accuracy_score(y_true_classes, y_pred_classes) * 100\n",
    "    \n",
    "    # Calculate model precision, recall, and f1 score using \"weighted average\"\n",
    "    model_precision, model_recall, model_f1, _ = precision_recall_fscore_support(y_true_classes, y_pred_classes, average=\"weighted\")\n",
    "    model_results = {\"accuracy\": model_accuracy,\n",
    "                     \"precision\": model_precision,\n",
    "                     \"recall\": model_recall,\n",
    "                     \"f1\": model_f1}\n",
    "    return model_results"
   ]
  },
  {
   "cell_type": "code",
   "execution_count": 34,
   "metadata": {},
   "outputs": [
    {
     "data": {
      "text/plain": [
       "{'accuracy': 47.50692520775623,\n",
       " 'precision': 0.4696480281868838,\n",
       " 'recall': 0.47506925207756234,\n",
       " 'f1': 0.468950134756359}"
      ]
     },
     "execution_count": 34,
     "metadata": {},
     "output_type": "execute_result"
    }
   ],
   "source": [
    "model_results = calculate_results(y_true=y_test, y_pred=model_preds)\n",
    "model_results"
   ]
  },
  {
   "cell_type": "markdown",
   "metadata": {},
   "source": [
    "Naive Bayes"
   ]
  },
  {
   "cell_type": "code",
   "execution_count": 37,
   "metadata": {},
   "outputs": [],
   "source": [
    "from sklearn.feature_extraction.text import TfidfVectorizer\n",
    "from sklearn.naive_bayes import MultinomialNB\n",
    "from sklearn.pipeline import Pipeline\n",
    "\n",
    "# Create a pipeline\n",
    "model_ml = Pipeline([\n",
    "  (\"tf-idf\", TfidfVectorizer()),\n",
    "  (\"clf\", MultinomialNB())\n",
    "])\n",
    "\n",
    "# Fit the pipeline to the training data\n",
    "model_ml.fit(X=x_train, \n",
    "            y=y_train);"
   ]
  },
  {
   "cell_type": "code",
   "execution_count": 38,
   "metadata": {},
   "outputs": [
    {
     "data": {
      "text/plain": [
       "0.4362880886426593"
      ]
     },
     "execution_count": 38,
     "metadata": {},
     "output_type": "execute_result"
    }
   ],
   "source": [
    "# Evaluate baseline on validation dataset\n",
    "\n",
    "model_ml.score(X=x_test,\n",
    "              y=y_test)"
   ]
  },
  {
   "cell_type": "code",
   "execution_count": 35,
   "metadata": {},
   "outputs": [
    {
     "name": "stdout",
     "output_type": "stream",
     "text": [
      "23/23 [==============================] - 0s 5ms/step - loss: 1.3164 - accuracy: 0.4723\n",
      "Test Accuracy: 0.47229915857315063\n",
      "Test Loss: 1.3164407014846802\n"
     ]
    }
   ],
   "source": [
    "from tensorflow.keras.models import load_model\n",
    "\n",
    "# Load the best model\n",
    "best_model = load_model(\"./best_model.LSTM\")\n",
    "\n",
    "# Evaluate the best model on the test data\n",
    "evaluation_results = best_model.evaluate(x_test, y_test)\n",
    "\n",
    "# Print the evaluation results\n",
    "print(\"Test Accuracy:\", evaluation_results[1])\n",
    "print(\"Test Loss:\", evaluation_results[0])"
   ]
  }
 ],
 "metadata": {
  "kernelspec": {
   "display_name": "my_env",
   "language": "python",
   "name": "python3"
  },
  "language_info": {
   "codemirror_mode": {
    "name": "ipython",
    "version": 3
   },
   "file_extension": ".py",
   "mimetype": "text/x-python",
   "name": "python",
   "nbconvert_exporter": "python",
   "pygments_lexer": "ipython3",
   "version": "3.9.18"
  }
 },
 "nbformat": 4,
 "nbformat_minor": 2
}

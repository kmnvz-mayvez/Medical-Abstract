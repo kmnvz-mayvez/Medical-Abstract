{
 "cells": [
  {
   "cell_type": "markdown",
   "metadata": {},
   "source": [
    "prepare"
   ]
  },
  {
   "cell_type": "code",
   "execution_count": 124,
   "metadata": {},
   "outputs": [],
   "source": [
    "import pandas as pd\n",
    "import numpy as np\n",
    "import tensorflow as tf\n",
    "import matplotlib.pyplot as plt\n",
    "import seaborn as sns"
   ]
  },
  {
   "cell_type": "code",
   "execution_count": 125,
   "metadata": {},
   "outputs": [],
   "source": [
    "import re\n",
    "import random"
   ]
  },
  {
   "cell_type": "code",
   "execution_count": 126,
   "metadata": {},
   "outputs": [],
   "source": [
    "# Import series of helper functions for the notebook\n",
    "\n",
    "from helper_functions import create_tensorboard_callback, plot_loss_curves"
   ]
  },
  {
   "cell_type": "code",
   "execution_count": 127,
   "metadata": {},
   "outputs": [
    {
     "data": {
      "text/plain": [
       "[PhysicalDevice(name='/physical_device:GPU:0', device_type='GPU')]"
      ]
     },
     "execution_count": 127,
     "metadata": {},
     "output_type": "execute_result"
    }
   ],
   "source": [
    "# Check GPU\n",
    "\n",
    "tf.config.list_physical_devices('GPU')"
   ]
  },
  {
   "cell_type": "markdown",
   "metadata": {},
   "source": [
    "Read dataset"
   ]
  },
  {
   "cell_type": "code",
   "execution_count": 128,
   "metadata": {},
   "outputs": [
    {
     "data": {
      "text/html": [
       "<div>\n",
       "<style scoped>\n",
       "    .dataframe tbody tr th:only-of-type {\n",
       "        vertical-align: middle;\n",
       "    }\n",
       "\n",
       "    .dataframe tbody tr th {\n",
       "        vertical-align: top;\n",
       "    }\n",
       "\n",
       "    .dataframe thead th {\n",
       "        text-align: right;\n",
       "    }\n",
       "</style>\n",
       "<table border=\"1\" class=\"dataframe\">\n",
       "  <thead>\n",
       "    <tr style=\"text-align: right;\">\n",
       "      <th></th>\n",
       "      <th>text</th>\n",
       "      <th>label</th>\n",
       "    </tr>\n",
       "  </thead>\n",
       "  <tbody>\n",
       "    <tr>\n",
       "      <th>0</th>\n",
       "      <td>Tuberculous peritonitis: a study comparing cir...</td>\n",
       "      <td>cardiovascular diseases</td>\n",
       "    </tr>\n",
       "    <tr>\n",
       "      <th>1</th>\n",
       "      <td>Clinical and Doppler echocardiographic follow-...</td>\n",
       "      <td>general pathological conditions</td>\n",
       "    </tr>\n",
       "    <tr>\n",
       "      <th>2</th>\n",
       "      <td>Pulmonary embolism presenting as exercise-indu...</td>\n",
       "      <td>nervous system diseases</td>\n",
       "    </tr>\n",
       "    <tr>\n",
       "      <th>3</th>\n",
       "      <td>Pancreatitis. Pancreatitis is a common but rat...</td>\n",
       "      <td>cardiovascular diseases</td>\n",
       "    </tr>\n",
       "    <tr>\n",
       "      <th>4</th>\n",
       "      <td>Xeroderma pigmentosum: review and report of a ...</td>\n",
       "      <td>general pathological conditions</td>\n",
       "    </tr>\n",
       "    <tr>\n",
       "      <th>5</th>\n",
       "      <td>Brain abscess associated with congenital pulmo...</td>\n",
       "      <td>general pathological conditions</td>\n",
       "    </tr>\n",
       "    <tr>\n",
       "      <th>6</th>\n",
       "      <td>Implication of specific DQB1 alleles in geneti...</td>\n",
       "      <td>general pathological conditions</td>\n",
       "    </tr>\n",
       "    <tr>\n",
       "      <th>7</th>\n",
       "      <td>Primary adenocarcinoma of the bladder: favorab...</td>\n",
       "      <td>digestive system diseases</td>\n",
       "    </tr>\n",
       "    <tr>\n",
       "      <th>8</th>\n",
       "      <td>Cancer surveillance in ulcerative colitis. Dur...</td>\n",
       "      <td>digestive system diseases</td>\n",
       "    </tr>\n",
       "    <tr>\n",
       "      <th>9</th>\n",
       "      <td>Activated protooncogenes in human lung tumors ...</td>\n",
       "      <td>digestive system diseases</td>\n",
       "    </tr>\n",
       "  </tbody>\n",
       "</table>\n",
       "</div>"
      ],
      "text/plain": [
       "                                                text  \\\n",
       "0  Tuberculous peritonitis: a study comparing cir...   \n",
       "1  Clinical and Doppler echocardiographic follow-...   \n",
       "2  Pulmonary embolism presenting as exercise-indu...   \n",
       "3  Pancreatitis. Pancreatitis is a common but rat...   \n",
       "4  Xeroderma pigmentosum: review and report of a ...   \n",
       "5  Brain abscess associated with congenital pulmo...   \n",
       "6  Implication of specific DQB1 alleles in geneti...   \n",
       "7  Primary adenocarcinoma of the bladder: favorab...   \n",
       "8  Cancer surveillance in ulcerative colitis. Dur...   \n",
       "9  Activated protooncogenes in human lung tumors ...   \n",
       "\n",
       "                             label  \n",
       "0          cardiovascular diseases  \n",
       "1  general pathological conditions  \n",
       "2          nervous system diseases  \n",
       "3          cardiovascular diseases  \n",
       "4  general pathological conditions  \n",
       "5  general pathological conditions  \n",
       "6  general pathological conditions  \n",
       "7        digestive system diseases  \n",
       "8        digestive system diseases  \n",
       "9        digestive system diseases  "
      ]
     },
     "execution_count": 128,
     "metadata": {},
     "output_type": "execute_result"
    }
   ],
   "source": [
    "df_data=pd.read_csv('data_1A.csv')\n",
    "df_data = df_data.drop(columns=['Unnamed: 0'])\n",
    "df_data.head(10)"
   ]
  },
  {
   "cell_type": "markdown",
   "metadata": {},
   "source": [
    "encode"
   ]
  },
  {
   "cell_type": "code",
   "execution_count": 129,
   "metadata": {},
   "outputs": [],
   "source": [
    "#Encoding Categorical to Numeric \n",
    "\n",
    "label_encode={\"label\": {\"cardiovascular diseases\":0,\"general pathological conditions\" :1,\"nervous system diseases\":2,\n",
    "                       \"digestive system diseases\":3, \"neoplasms\":4}}\n",
    "df_data=df_data.replace(label_encode)"
   ]
  },
  {
   "cell_type": "markdown",
   "metadata": {},
   "source": [
    "cleansing text"
   ]
  },
  {
   "cell_type": "code",
   "execution_count": 130,
   "metadata": {},
   "outputs": [],
   "source": [
    "def cleansing(df_data):\n",
    "    df_clean = df_data.str.lower()\n",
    "    df_clean = [re.sub(r'[^\\w\\s]', '', i) for i in df_clean]\n",
    "    df_clean = [re.sub(r'\\s+', ' ', i) for i in df_clean]\n",
    "    return df_clean"
   ]
  },
  {
   "cell_type": "code",
   "execution_count": 131,
   "metadata": {},
   "outputs": [
    {
     "data": {
      "text/html": [
       "<div>\n",
       "<style scoped>\n",
       "    .dataframe tbody tr th:only-of-type {\n",
       "        vertical-align: middle;\n",
       "    }\n",
       "\n",
       "    .dataframe tbody tr th {\n",
       "        vertical-align: top;\n",
       "    }\n",
       "\n",
       "    .dataframe thead th {\n",
       "        text-align: right;\n",
       "    }\n",
       "</style>\n",
       "<table border=\"1\" class=\"dataframe\">\n",
       "  <thead>\n",
       "    <tr style=\"text-align: right;\">\n",
       "      <th></th>\n",
       "      <th>label</th>\n",
       "      <th>clean_text</th>\n",
       "    </tr>\n",
       "  </thead>\n",
       "  <tbody>\n",
       "    <tr>\n",
       "      <th>0</th>\n",
       "      <td>0</td>\n",
       "      <td>tuberculous peritonitis a study comparing cirr...</td>\n",
       "    </tr>\n",
       "    <tr>\n",
       "      <th>1</th>\n",
       "      <td>1</td>\n",
       "      <td>clinical and doppler echocardiographic followu...</td>\n",
       "    </tr>\n",
       "    <tr>\n",
       "      <th>2</th>\n",
       "      <td>2</td>\n",
       "      <td>pulmonary embolism presenting as exerciseinduc...</td>\n",
       "    </tr>\n",
       "    <tr>\n",
       "      <th>3</th>\n",
       "      <td>0</td>\n",
       "      <td>pancreatitis pancreatitis is a common but rath...</td>\n",
       "    </tr>\n",
       "    <tr>\n",
       "      <th>4</th>\n",
       "      <td>1</td>\n",
       "      <td>xeroderma pigmentosum review and report of a c...</td>\n",
       "    </tr>\n",
       "  </tbody>\n",
       "</table>\n",
       "</div>"
      ],
      "text/plain": [
       "   label                                         clean_text\n",
       "0      0  tuberculous peritonitis a study comparing cirr...\n",
       "1      1  clinical and doppler echocardiographic followu...\n",
       "2      2  pulmonary embolism presenting as exerciseinduc...\n",
       "3      0  pancreatitis pancreatitis is a common but rath...\n",
       "4      1  xeroderma pigmentosum review and report of a c..."
      ]
     },
     "execution_count": 131,
     "metadata": {},
     "output_type": "execute_result"
    }
   ],
   "source": [
    "df_data['clean_text'] = cleansing(df_data['text'])\n",
    "df_data.drop('text', axis=1, inplace=True)\n",
    "df_data.head(5)"
   ]
  },
  {
   "cell_type": "markdown",
   "metadata": {},
   "source": [
    "Exploratory Data Analysis"
   ]
  },
  {
   "cell_type": "code",
   "execution_count": 132,
   "metadata": {},
   "outputs": [
    {
     "name": "stdout",
     "output_type": "stream",
     "text": [
      "[0 1 2 3 4]\n"
     ]
    }
   ],
   "source": [
    "# Check unique\n",
    "\n",
    "unique_sentiments = df_data['label'].unique()\n",
    "print(unique_sentiments)"
   ]
  },
  {
   "cell_type": "code",
   "execution_count": 133,
   "metadata": {},
   "outputs": [
    {
     "data": {
      "image/png": "[encoded data removed]",
      "text/plain": [
       "<Figure size 1000x600 with 1 Axes>"
      ]
     },
     "metadata": {},
     "output_type": "display_data"
    }
   ],
   "source": [
    "# Check the distribution of classes\n",
    "\n",
    "plt.figure(figsize=(10, 6))\n",
    "sns.countplot(x='label', data=df_data)\n",
    "plt.xticks(rotation=45)\n",
    "plt.title('most class of text count')\n",
    "plt.show()"
   ]
  },
  {
   "cell_type": "code",
   "execution_count": 134,
   "metadata": {},
   "outputs": [
    {
     "data": {
      "image/png": "[encoded data removed]",
      "text/plain": [
       "<Figure size 1000x600 with 1 Axes>"
      ]
     },
     "metadata": {},
     "output_type": "display_data"
    }
   ],
   "source": [
    "# Check the distribution of text lengths\n",
    "\n",
    "df_data['text_length'] = df_data['clean_text'].apply(len)\n",
    "plt.figure(figsize=(10, 6))\n",
    "sns.histplot(df_data['text_length'])\n",
    "plt.xlabel('Text Length')\n",
    "plt.ylabel('Frequency')\n",
    "plt.title('Distribution of Text Lengths')\n",
    "plt.show()"
   ]
  },
  {
   "cell_type": "code",
   "execution_count": 135,
   "metadata": {},
   "outputs": [
    {
     "name": "stdout",
     "output_type": "stream",
     "text": [
      "Target: 0 (cardiovascular diseases)\n",
      "text:\n",
      "anal sphincter function after intersphincteric resection and stapled ileal pouchanal anastomosis this study was done to determine the effect of the direct ileal pouchanal anastomosis upon pressure and sensory components of the anal canal and ileal pouch these findings were related to postoperative continence thirtythree patients with ileal pouchanal anastomosis 25 continent eight with episodic minor incontinence were studied 3 03 and 25 5 months after ileostomy takedown the maximum resting pressure in the anal canal was significantly lower in patients with an imperfect result 35 5 mm hg than in continent patients 44 5 mm hg p less than 005 postoperatively the maximum squeeze anal pressure was slightly greater in continent than in incontinent patients 99 8 mm hg vs 87 7 mm hg p greater than 005 the postoperative rectoileoanal inhibitory reflex was present in 27 percent the linear correlation between strength of rectal ileal distension and depth resp duration of internal sphincter relaxation as preoperatively observed disappeared postoperatively in every group of patients simultaneous measurements of pouch and anal pressure in patients with imperfect results revealed a reduced positive pouch anal pressure gradient compared to the continent group this low pouchanal pressure gradient is thought to be responsible for the increased incidence of soiling in some of our patients \n",
      "\n",
      "---\n",
      "\n",
      "Target: 1 (general pathological conditions)\n",
      "text:\n",
      "conservative management or closed nailing for tibial shaft fractures a randomised prospective trial we performed a prospective randomised trial on matched groups of patients with displaced tibial shaft fractures to compare conservative treatment with closed intramedullary nailing the results showed conclusively that intramedullary nailing gave more rapid union with less malunion and shortening nailed patients had less time off work with a more predictable and rapid return to full function we therefore consider that closed intramedullary nailing is the most efficient treatment for displaced fractures of the tibial shaft \n",
      "\n",
      "---\n",
      "\n",
      "Target: 2 (nervous system diseases)\n",
      "text:\n",
      "coffee caffeine and cardiovascular disease in men background for many years an association between coffee consumption and the risk of coronary heart disease has been suspected although based on small numbers of end points a prospective study has suggested a particularly strong association between recent coffee drinking and the incidence of cardiovascular disease methods we examined prospectively the relation of coffee consumption with the risk of myocardial infarction need for coronaryartery bypass grafting or angioplasty and risk of stroke in a cohort of 45589 us men who were 40 to 75 years old in 1986 and who had no history of cardiovascular disease results during two years of followup observation 221 participants had a nonfatal myocardial infarction or died of coronary heart disease 136 underwent coronaryartery surgery or angioplasty and 54 had a stroke total coffee consumption was not associated with an increased risk of coronary heart disease or stroke the ageadjusted relative risk for all cardiovascular disease among participants who drank four or more cups of coffee per day was 104 95 percent confidence intervals 074 to 146 increasing levels of consumption of caffeinated coffee were not associated with higher risks of cardiovascular disease higher consumption of decaffeinated coffee however was associated with a marginally significant increase in the risk of coronary heart disease relative risk 163 95 percent confidence interval 102 to 260 finally we observed no pattern of increased risk across the subgroups of participants with increasing intakes of caffeine from all sources adjustment for major cardiovascularrisk indicators dietary intake of fats and cholesterol intake did not materially alter these associations conclusions these findings do not support the hypothesis that coffee or caffeine consumption increases the risk of coronary heart disease or stroke \n",
      "\n",
      "---\n",
      "\n"
     ]
    }
   ],
   "source": [
    "# visualize some random training examples\n",
    "# create random indexes not higher than the total number of samples\n",
    "\n",
    "random_index = random.randint(0, len(df_data) - 3)\n",
    "for row in df_data[[\"clean_text\", \"label\"]].iloc[random_index:random_index+3].itertuples():\n",
    "    _, clean_text, label = row\n",
    "    sentiment_label = \"\"\n",
    "    if label == 0:\n",
    "        sentiment_label = \"(cardiovascular diseases)\"\n",
    "    elif label == 1:\n",
    "        sentiment_label = \"(general pathological conditions)\"\n",
    "    elif label == 2:\n",
    "        sentiment_label = \"(nervous system diseases)\"\n",
    "    elif label == 3:\n",
    "        sentiment_label = \"(digestive system diseases)\"\n",
    "    elif label == 4:\n",
    "        sentiment_label = \"(neoplasms)\"\n",
    "    \n",
    "    print(f\"Target: {label} {sentiment_label}\")\n",
    "    print(f\"text:\\n{clean_text}\\n\")\n",
    "    print(\"---\\n\")"
   ]
  },
  {
   "cell_type": "markdown",
   "metadata": {},
   "source": [
    "split test"
   ]
  },
  {
   "cell_type": "code",
   "execution_count": 136,
   "metadata": {},
   "outputs": [],
   "source": [
    "from sklearn.model_selection import train_test_split"
   ]
  },
  {
   "cell_type": "code",
   "execution_count": 137,
   "metadata": {},
   "outputs": [],
   "source": [
    "x_train, x_test, y_train, y_test = train_test_split(df_data['clean_text'].to_numpy(),df_data['label'].to_numpy(),\n",
    "    test_size=0.2,\n",
    "    random_state=42,\n",
    "    stratify=df_data['label']\n",
    ")"
   ]
  },
  {
   "cell_type": "code",
   "execution_count": 138,
   "metadata": {},
   "outputs": [
    {
     "data": {
      "text/plain": [
       "(2887, 722, 2887, 722)"
      ]
     },
     "execution_count": 138,
     "metadata": {},
     "output_type": "execute_result"
    }
   ],
   "source": [
    "# Check the lengths\n",
    "\n",
    "len(x_train), len(x_test), len(y_train), len(y_test)"
   ]
  },
  {
   "cell_type": "code",
   "execution_count": 139,
   "metadata": {},
   "outputs": [
    {
     "data": {
      "text/plain": [
       "(array(['polycystic ovary syndrome polycystic ovary syndrome is a disorder of unknown cause characterized by anovulation hyperandrogenism and gonadotropin secretory abnormalities producing oligoovulation or anovulation hyperinsulinemia and insulin resistance are important features of this syndrome because other causes of androgen excess may produce similar clinical and biochemical findings pco remains a diagnosis of exclusion treatment is directed toward relieving symptoms of hyperandrogenemia in order to stimulate ovulation correcting obesity and inducing regular menses to reduce the risk of endometrial cancer ',\n",
       "        'coronary dynamics and mental arithmetic stress in humans incidence and mechanisms of psychological stressinduced myocardial ischemia were investigated in a population of 63 patients using mental arithmetic fifty subjects group 1 were selected as a consecutive population of ischemic patients with electrocardiographic documentation of ischemia at rest on effort or both mental arithmetic induced increases in heart rate blood pressure and ratepressure product in all patients transient ischemic electrocardiographic changes occurred in 22 patients 44 positive mental arithmetic the majority of whom had both resting and exercise angina in negative mental arithmetic tests peak ratepressure product was always lower than that achieved during exercise mean sd 119 3 versus 213 5 p less than 001 of the 22 patients with positive mental arithmetic tests ischemia occurred in only six at a ratepressure product equal to or more than the one achieved during exercise 211 5 versus 194 4 p less than 001 suggesting an increase in myocardial o2 demand exceeding the limited increase in flow in the remaining 16 patients ratepressure product values were significantly lower 148 3 versus 227 6 p less than 001 suggesting a primary reduction in coronary blood flow that is probably related to an increase in coronary tone to assess the possible site of such a vasoconstriction the effect of mental arithmetic on large coronary artery diameter was tested in 13 additional unselected patients group 2 undergoing coronary angiography for a chest pain syndrome ',\n",
       "        'immunophenotyping in the management of gastric lymphoma primary gastric lymphoma is a rare tumor in which surgical resection plays a major role in improving the response rate and reducing the incidence of bleeding and perforation after chemotherapy in 17 consecutive patients the diagnosis of gastric lymphoma was made by immunophenotyping snapfrozen endoscopic biopsy specimens all neoplasms were bcell lymphomas pan b surface marker antigens were present in all patients levels of ki67 a nuclear marker of tumor proliferation were greater than 45 in two of the four patients who died after progression of their lymphoma all patients alive had ki67 levels of less than 30 a lower proliferation index as measured by ki67 appears to be associated with better prognosis ten of 11 patients treated by resection prior to chemotherapy had no complications immunophenotyping is the key in the differential diagnosis when considering malignant lymphoma with gastric carcinoma and benign conditions such as pseudolymphoma '],\n",
       "       dtype=object),\n",
       " array([3, 2, 3], dtype=int64))"
      ]
     },
     "execution_count": 139,
     "metadata": {},
     "output_type": "execute_result"
    }
   ],
   "source": [
    "# View the sample training sentences and their labels\n",
    "\n",
    "x_train[:3], y_train[:3]"
   ]
  },
  {
   "cell_type": "markdown",
   "metadata": {},
   "source": [
    "Text vectorization (tokenization)"
   ]
  },
  {
   "cell_type": "code",
   "execution_count": 140,
   "metadata": {},
   "outputs": [
    {
     "data": {
      "text/plain": [
       "178"
      ]
     },
     "execution_count": 140,
     "metadata": {},
     "output_type": "execute_result"
    }
   ],
   "source": [
    "# Find average number of tokens words in training\n",
    "round(sum([len(i.split()) for i in x_train])/len(x_train))"
   ]
  },
  {
   "cell_type": "code",
   "execution_count": 141,
   "metadata": {},
   "outputs": [],
   "source": [
    "from tensorflow.keras.layers import TextVectorization\n",
    "\n",
    "# Setup text vectorization with custom variables\n",
    "max_vocab_length = 68000 # max number of words in vocabulary\n",
    "max_length = 50 # max length \n",
    "\n",
    "text_vectorizer = TextVectorization(max_tokens=max_vocab_length,\n",
    "                                    output_mode=\"int\",\n",
    "                                    output_sequence_length=max_length)"
   ]
  },
  {
   "cell_type": "code",
   "execution_count": 142,
   "metadata": {},
   "outputs": [],
   "source": [
    "# Fit the text vectorizer to the training text\n",
    "\n",
    "x_train = np.array(x_train)\n",
    "text_vectorizer.adapt(x_train)"
   ]
  },
  {
   "cell_type": "code",
   "execution_count": 143,
   "metadata": {},
   "outputs": [
    {
     "data": {
      "text/plain": [
       "<tf.Tensor: shape=(1, 50), dtype=int64, numpy=\n",
       "array([[    1,     7,     1,     5, 18613, 12084,     0,     0,     0,\n",
       "            0,     0,     0,     0,     0,     0,     0,     0,     0,\n",
       "            0,     0,     0,     0,     0,     0,     0,     0,     0,\n",
       "            0,     0,     0,     0,     0,     0,     0,     0,     0,\n",
       "            0,     0,     0,     0,     0,     0,     0,     0,     0,\n",
       "            0,     0,     0,     0,     0]], dtype=int64)>"
      ]
     },
     "execution_count": 143,
     "metadata": {},
     "output_type": "execute_result"
    }
   ],
   "source": [
    "# Create sample sentence and tokenize it\n",
    "\n",
    "sample_sentence = \"There's a flood in my street!\"\n",
    "text_vectorizer([sample_sentence])"
   ]
  },
  {
   "cell_type": "code",
   "execution_count": 144,
   "metadata": {},
   "outputs": [
    {
     "name": "stdout",
     "output_type": "stream",
     "text": [
      "Original text:\n",
      "ki67 immunostaining in uveal melanoma the effect of preenucleation radiotherapy the reactivity of 33 choroidal and ciliary body melanomas with monoclonal antibody ki67 which recognizes a proliferation associated nuclear antigen has been assessed and compared with clinicopathologic parameters in 23 cases 8 gy irradiation was given 2 days before enucleation nonirradiated melanomas had a significantly higher proliferation rate as defined by staining with monoclonal antibody ki67 as compared with irradiated tumors p 0007 similarly a strong relationship was found between preenucleation irradiation and low mitotic activity p 0001 there was no significant correlation between the presence of ki67positive nuclei and histologic classification largest tumor diameter localization of the tumor age sex scleral invasion pigmentation and lymphocytic infiltration the relevance of ki67 immunohistochemistry for the assessment of the life prognosis of patients with uveal melanoma has to be studied prospectively       \n",
      "\n",
      "Vectorized version:\n"
     ]
    },
    {
     "data": {
      "text/plain": [
       "<tf.Tensor: shape=(1, 50), dtype=int64, numpy=\n",
       "array([[ 3070,  4458,     5,  8287,   904,     2,   145,     3, 12560,\n",
       "         1289,     2,  1334,     3,   620,  8007,     4, 11174,   461,\n",
       "         3332,     6,   850,   625,  3070,    71, 10008,     7,  1081,\n",
       "           57,  1012,   756,    78,    61,   545,     4,    87,     6,\n",
       "         2608,   848,     5,   456,    47,   201,  2961,  1253,    10,\n",
       "          510,    55,   156,   158, 14008]], dtype=int64)>"
      ]
     },
     "execution_count": 144,
     "metadata": {},
     "output_type": "execute_result"
    }
   ],
   "source": [
    "# Choose a random sentence from the training dataset and tokenize it\n",
    "\n",
    "random_sentence = random.choice(x_train)\n",
    "print(f\"Original text:\\n{random_sentence}\\\n",
    "      \\n\\nVectorized version:\")\n",
    "text_vectorizer([random_sentence])"
   ]
  },
  {
   "cell_type": "markdown",
   "metadata": {},
   "source": [
    "Creating an Embedding using an Embedding Layer"
   ]
  },
  {
   "cell_type": "code",
   "execution_count": 145,
   "metadata": {},
   "outputs": [
    {
     "data": {
      "text/plain": [
       "<keras.layers.core.embedding.Embedding at 0x27a3280f850>"
      ]
     },
     "execution_count": 145,
     "metadata": {},
     "output_type": "execute_result"
    }
   ],
   "source": [
    "from tensorflow.keras import layers\n",
    "\n",
    "embedding = layers.Embedding(input_dim=max_vocab_length, # set input shape\n",
    "                             output_dim=128, # set size of embedding vector\n",
    "                             embeddings_initializer=\"uniform\", # default, intialize randomly\n",
    "                             input_length=max_length, # how long is each input\n",
    "                             name=\"embedding\") \n",
    "\n",
    "embedding"
   ]
  },
  {
   "cell_type": "code",
   "execution_count": 146,
   "metadata": {},
   "outputs": [
    {
     "name": "stdout",
     "output_type": "stream",
     "text": [
      "Original text:\n",
      "morphologic comparison of patients with mitral valve prolapse who died suddenly with patients who died from severe valvular dysfunction or other conditions clinical and necropsy findings are described in 56 patients with mitral valve prolapse 15 patients aged 16 to 69 years mean 39 died suddenly and mitral valve prolapse was the only cardiac condition found at necropsy hereafter called isolated mitral valve prolapse the remaining 41 patients had other conditions that were capable of being fatal of the latter 41 patients 7 aged 17 to 59 years mean 45 had associated congenital heart disease and 34 patients aged 17 to 70 years mean 52 had no associated congenital cardiac abnormalities compared with the 34 patients without associated congenital heart disease and with nonmitral valve prolapse conditions capable in themselves of being fatal the 15 patients who died suddenly with isolated mitral valve prolapse were younger mean age 39 17 versus 52 15 years p 001 more often women 67 versus 26 p 0008 and had a lower frequency of mitral regurgitation 7 versus 38 p 002 the 15 patients dying suddenly with isolated mitral valve prolapse also were less likely to have evidence of ruptured chordae tendineae 29 versus 67 p 004 the frequency of increased heart weight 67 versus 59 a dilated mitral valve anulus 80 versus 81 a dilated tricuspid valve anulus 17 versus 17 an elongated anterior mitral leaflet 86 versus 54 an elongated posterior mitral leaflet 79 versus 77 and fibrous endocardial plaque under the posterior mitral leaflet 73 versus 63 was similar between the two groups the severity of the prolapse mild 20 versus 11 moderate 27 versus 58 severe 53 versus 32 also was similar between the two groups thus persons with mitral valve prolapse dying suddenly without another recognized condition tend to be relatively young women without mitral regurgitation       \n",
      "\n",
      "Embedded version:\n"
     ]
    },
    {
     "data": {
      "text/plain": [
       "<tf.Tensor: shape=(1, 50, 128), dtype=float32, numpy=\n",
       "array([[[-0.03485414,  0.0316172 , -0.03001304, ...,  0.04393971,\n",
       "         -0.00663139,  0.00551914],\n",
       "        [-0.011117  , -0.01811664, -0.03577063, ...,  0.03116608,\n",
       "         -0.01140321,  0.00645112],\n",
       "        [-0.00826411, -0.04914596, -0.0444895 , ..., -0.00605583,\n",
       "         -0.00125401, -0.0453322 ],\n",
       "        ...,\n",
       "        [-0.00919495, -0.00564403,  0.04084707, ..., -0.03913001,\n",
       "          0.04427688, -0.00545119],\n",
       "        [-0.0103081 , -0.0445325 , -0.03841473, ..., -0.04280178,\n",
       "          0.0086251 ,  0.02691129],\n",
       "        [-0.03164423,  0.04556025,  0.01426282, ..., -0.02745411,\n",
       "         -0.04582199, -0.04233295]]], dtype=float32)>"
      ]
     },
     "execution_count": 146,
     "metadata": {},
     "output_type": "execute_result"
    }
   ],
   "source": [
    "# Get a random sentence from training set\n",
    "\n",
    "random_sentence = random.choice(x_train)\n",
    "print(f\"Original text:\\n{random_sentence}\\\n",
    "      \\n\\nEmbedded version:\")\n",
    "\n",
    "# Embed the random sentence (turn it into numerical representation)\n",
    "sample_embed = embedding(text_vectorizer([random_sentence]))\n",
    "sample_embed"
   ]
  },
  {
   "cell_type": "code",
   "execution_count": 147,
   "metadata": {},
   "outputs": [
    {
     "data": {
      "text/plain": [
       "<tf.Tensor: shape=(128,), dtype=float32, numpy=\n",
       "array([-0.03485414,  0.0316172 , -0.03001304,  0.03695089,  0.00579267,\n",
       "       -0.03658779,  0.03925829, -0.03325259, -0.00430704,  0.04855562,\n",
       "        0.00156455, -0.02215174,  0.0119977 , -0.00164719, -0.04798877,\n",
       "        0.02201115,  0.0210502 ,  0.02731686,  0.04591275, -0.01223927,\n",
       "       -0.03895211,  0.04454329,  0.00508023,  0.02981718,  0.01206796,\n",
       "       -0.02389661,  0.02902788, -0.00986117,  0.00720428, -0.0439676 ,\n",
       "        0.02623334,  0.01025932,  0.01893887,  0.0335275 ,  0.04739146,\n",
       "        0.01029975, -0.00991435,  0.00252285,  0.00749841,  0.04620396,\n",
       "        0.02532549,  0.029617  , -0.0284681 ,  0.0066876 , -0.00761294,\n",
       "        0.03034223, -0.01393704,  0.03287375, -0.04057621, -0.03503274,\n",
       "        0.01812066, -0.0294123 ,  0.04454526,  0.02948851, -0.03007358,\n",
       "       -0.0464906 ,  0.0151955 , -0.047252  ,  0.00175289, -0.04014121,\n",
       "        0.00544752,  0.01807919,  0.04678984, -0.00653519, -0.0432974 ,\n",
       "       -0.00765493,  0.01834359,  0.04257895, -0.01547056,  0.01805803,\n",
       "       -0.03052461, -0.03528113,  0.03122175,  0.02353374,  0.02628065,\n",
       "       -0.04482423, -0.01700801,  0.03630828, -0.00985125, -0.03655535,\n",
       "        0.01043332, -0.01373738, -0.01816215, -0.0228002 , -0.01762074,\n",
       "        0.03512544,  0.01958202,  0.01884255,  0.0174783 , -0.01021193,\n",
       "       -0.03614569, -0.0155782 ,  0.02405379, -0.02205667,  0.02118775,\n",
       "        0.0344396 ,  0.00647246,  0.02043951,  0.00640585, -0.03926933,\n",
       "        0.0059108 ,  0.03711101,  0.03746252,  0.02632414,  0.03772643,\n",
       "        0.01827345,  0.00352798,  0.01975468, -0.0168767 ,  0.01275409,\n",
       "        0.01703459, -0.01742632,  0.04958474,  0.03026413,  0.00400297,\n",
       "       -0.02720597,  0.03648118, -0.01391313,  0.00673781, -0.02905678,\n",
       "        0.00528232,  0.02002357, -0.01757026, -0.00250788,  0.01623211,\n",
       "        0.04393971, -0.00663139,  0.00551914], dtype=float32)>"
      ]
     },
     "execution_count": 147,
     "metadata": {},
     "output_type": "execute_result"
    }
   ],
   "source": [
    "# Check out a single token's embedding\n",
    "\n",
    "sample_embed[0][0]"
   ]
  },
  {
   "cell_type": "markdown",
   "metadata": {},
   "source": [
    "LSTM Model"
   ]
  },
  {
   "cell_type": "code",
   "execution_count": 148,
   "metadata": {},
   "outputs": [],
   "source": [
    "# Set random seed and embedding layer\n",
    "tf.random.set_seed(42)\n",
    "\n",
    "from tensorflow.keras import layers\n",
    "\n",
    "inputs = layers.Input(shape=(1,), dtype=\"string\")\n",
    "x = text_vectorizer(inputs)\n",
    "x = embedding(x)\n",
    "\n",
    "# x = layers.LSTM\n",
    "x = layers.LSTM(64)(x)\n",
    "\n",
    "# x = layers.Dense\n",
    "outputs = layers.Dense(5, activation=\"softmax\")(x)\n",
    "\n",
    "model = tf.keras.Model(inputs, outputs, name=\"model_LSTM\")"
   ]
  },
  {
   "cell_type": "code",
   "execution_count": 149,
   "metadata": {},
   "outputs": [],
   "source": [
    "# Compile model\n",
    "model.compile(loss=\"sparse_categorical_crossentropy\",\n",
    "                optimizer=tf.keras.optimizers.Adam(),\n",
    "                metrics=[\"accuracy\"])"
   ]
  },
  {
   "cell_type": "code",
   "execution_count": 150,
   "metadata": {},
   "outputs": [
    {
     "name": "stdout",
     "output_type": "stream",
     "text": [
      "Model: \"model_LSTM\"\n",
      "_________________________________________________________________\n",
      " Layer (type)                Output Shape              Param #   \n",
      "=================================================================\n",
      " input_4 (InputLayer)        [(None, 1)]               0         \n",
      "                                                                 \n",
      " text_vectorization_3 (TextV  (None, 50)               0         \n",
      " ectorization)                                                   \n",
      "                                                                 \n",
      " embedding (Embedding)       (None, 50, 128)           8704000   \n",
      "                                                                 \n",
      " lstm_3 (LSTM)               (None, 64)                49408     \n",
      "                                                                 \n",
      " dense_3 (Dense)             (None, 5)                 325       \n",
      "                                                                 \n",
      "=================================================================\n",
      "Total params: 8,753,733\n",
      "Trainable params: 8,753,733\n",
      "Non-trainable params: 0\n",
      "_________________________________________________________________\n"
     ]
    }
   ],
   "source": [
    "# Get a summary of the model\n",
    "model.summary()"
   ]
  },
  {
   "cell_type": "code",
   "execution_count": 151,
   "metadata": {},
   "outputs": [],
   "source": [
    "# Create ModelCheckpoint callback\n",
    "from tensorflow.keras.callbacks import ModelCheckpoint\n",
    "\n",
    "checkpoint_path = \"./best_model.LSTM\"\n",
    "model_checkpoint = ModelCheckpoint(checkpoint_path, \n",
    "                                   monitor='val_accuracy', \n",
    "                                   save_best_only=True, \n",
    "                                   mode='max', \n",
    "                                   verbose=1)"
   ]
  },
  {
   "cell_type": "code",
   "execution_count": 152,
   "metadata": {},
   "outputs": [
    {
     "name": "stdout",
     "output_type": "stream",
     "text": [
      "Saving TensorBoard log files to: ./logs/LSTM_model/20240222-160630\n",
      "Epoch 1/5\n"
     ]
    },
    {
     "name": "stdout",
     "output_type": "stream",
     "text": [
      "91/91 [==============================] - ETA: 0s - loss: 1.5494 - accuracy: 0.3187\n",
      "Epoch 1: val_accuracy improved from -inf to 0.32548, saving model to .\\best_model.LSTM\n"
     ]
    },
    {
     "name": "stderr",
     "output_type": "stream",
     "text": [
      "WARNING:absl:Found untraced functions such as lstm_cell_5_layer_call_fn, lstm_cell_5_layer_call_and_return_conditional_losses while saving (showing 2 of 2). These functions will not be directly callable after loading.\n"
     ]
    },
    {
     "name": "stdout",
     "output_type": "stream",
     "text": [
      "INFO:tensorflow:Assets written to: .\\best_model.LSTM\\assets\n"
     ]
    },
    {
     "name": "stderr",
     "output_type": "stream",
     "text": [
      "INFO:tensorflow:Assets written to: .\\best_model.LSTM\\assets\n"
     ]
    },
    {
     "name": "stdout",
     "output_type": "stream",
     "text": [
      "91/91 [==============================] - 5s 46ms/step - loss: 1.5494 - accuracy: 0.3187 - val_loss: 1.5164 - val_accuracy: 0.3255\n",
      "Epoch 2/5\n",
      "87/91 [===========================>..] - ETA: 0s - loss: 1.1847 - accuracy: 0.5312\n",
      "Epoch 2: val_accuracy improved from 0.32548 to 0.46814, saving model to .\\best_model.LSTM\n"
     ]
    },
    {
     "name": "stderr",
     "output_type": "stream",
     "text": [
      "WARNING:absl:Found untraced functions such as lstm_cell_5_layer_call_fn, lstm_cell_5_layer_call_and_return_conditional_losses while saving (showing 2 of 2). These functions will not be directly callable after loading.\n"
     ]
    },
    {
     "name": "stdout",
     "output_type": "stream",
     "text": [
      "INFO:tensorflow:Assets written to: .\\best_model.LSTM\\assets\n"
     ]
    },
    {
     "name": "stderr",
     "output_type": "stream",
     "text": [
      "INFO:tensorflow:Assets written to: .\\best_model.LSTM\\assets\n"
     ]
    },
    {
     "name": "stdout",
     "output_type": "stream",
     "text": [
      "91/91 [==============================] - 4s 47ms/step - loss: 1.1762 - accuracy: 0.5345 - val_loss: 1.3123 - val_accuracy: 0.4681\n",
      "Epoch 3/5\n",
      "90/91 [============================>.] - ETA: 0s - loss: 0.6982 - accuracy: 0.7656\n",
      "Epoch 3: val_accuracy improved from 0.46814 to 0.47230, saving model to .\\best_model.LSTM\n"
     ]
    },
    {
     "name": "stderr",
     "output_type": "stream",
     "text": [
      "WARNING:absl:Found untraced functions such as lstm_cell_5_layer_call_fn, lstm_cell_5_layer_call_and_return_conditional_losses while saving (showing 2 of 2). These functions will not be directly callable after loading.\n"
     ]
    },
    {
     "name": "stdout",
     "output_type": "stream",
     "text": [
      "INFO:tensorflow:Assets written to: .\\best_model.LSTM\\assets\n"
     ]
    },
    {
     "name": "stderr",
     "output_type": "stream",
     "text": [
      "INFO:tensorflow:Assets written to: .\\best_model.LSTM\\assets\n"
     ]
    },
    {
     "name": "stdout",
     "output_type": "stream",
     "text": [
      "91/91 [==============================] - 4s 41ms/step - loss: 0.6980 - accuracy: 0.7658 - val_loss: 1.4897 - val_accuracy: 0.4723\n",
      "Epoch 4/5\n",
      "89/91 [============================>.] - ETA: 0s - loss: 0.3776 - accuracy: 0.8901\n",
      "Epoch 4: val_accuracy did not improve from 0.47230\n",
      "91/91 [==============================] - 1s 14ms/step - loss: 0.3773 - accuracy: 0.8905 - val_loss: 1.6815 - val_accuracy: 0.4418\n",
      "Epoch 5/5\n",
      "89/91 [============================>.] - ETA: 0s - loss: 0.2611 - accuracy: 0.9242\n",
      "Epoch 5: val_accuracy did not improve from 0.47230\n",
      "91/91 [==============================] - 1s 13ms/step - loss: 0.2640 - accuracy: 0.9228 - val_loss: 1.9438 - val_accuracy: 0.4640\n"
     ]
    }
   ],
   "source": [
    "# Fit model\n",
    "SAVE_DIR = \"./logs\"\n",
    "model_history = model.fit(x_train,\n",
    "                          y_train,\n",
    "                          epochs=5,\n",
    "                          validation_data=(x_test, y_test),\n",
    "                          callbacks=[create_tensorboard_callback(SAVE_DIR, \"LSTM_model\"), model_checkpoint])"
   ]
  },
  {
   "cell_type": "code",
   "execution_count": 153,
   "metadata": {},
   "outputs": [
    {
     "data": {
      "image/png": "[encoded data removed]",
      "text/plain": [
       "<Figure size 640x480 with 1 Axes>"
      ]
     },
     "metadata": {},
     "output_type": "display_data"
    },
    {
     "data": {
      "image/png": "[encoded data removed]",
      "text/plain": [
       "<Figure size 640x480 with 1 Axes>"
      ]
     },
     "metadata": {},
     "output_type": "display_data"
    }
   ],
   "source": [
    "plot_loss_curves(model_history)\n",
    "plt.show()"
   ]
  },
  {
   "cell_type": "code",
   "execution_count": 154,
   "metadata": {},
   "outputs": [
    {
     "name": "stdout",
     "output_type": "stream",
     "text": [
      "23/23 [==============================] - 0s 4ms/step\n"
     ]
    },
    {
     "data": {
      "text/plain": [
       "((722, 5),\n",
       " array([[6.3128592e-03, 5.9376544e-01, 9.7373566e-03, 3.6125541e-01,\n",
       "         2.8928919e-02],\n",
       "        [3.9552625e-02, 8.6823058e-01, 3.0158930e-02, 4.9746174e-02,\n",
       "         1.2311639e-02],\n",
       "        [2.5695148e-03, 2.0467643e-01, 7.6275450e-01, 2.3601418e-03,\n",
       "         2.7639434e-02],\n",
       "        [1.8081169e-03, 1.4622959e-01, 8.2863027e-01, 2.6925120e-03,\n",
       "         2.0639431e-02],\n",
       "        [7.2420719e-03, 7.0019327e-02, 3.9918195e-03, 8.9377522e-01,\n",
       "         2.4971487e-02],\n",
       "        [6.3544107e-03, 3.5758469e-02, 9.4230413e-01, 1.8561308e-03,\n",
       "         1.3726785e-02],\n",
       "        [6.7061363e-03, 8.4193209e-03, 9.7539437e-01, 1.0335927e-03,\n",
       "         8.4466655e-03],\n",
       "        [5.1085189e-02, 4.6087003e-01, 1.1984775e-01, 5.9765305e-02,\n",
       "         3.0843171e-01],\n",
       "        [8.3730631e-03, 3.8916659e-01, 5.5884814e-01, 6.0608778e-03,\n",
       "         3.7551343e-02],\n",
       "        [8.7778427e-04, 1.4014914e-02, 7.4965350e-04, 9.8296779e-01,\n",
       "         1.3897422e-03]], dtype=float32))"
      ]
     },
     "execution_count": 154,
     "metadata": {},
     "output_type": "execute_result"
    }
   ],
   "source": [
    "# Make predictions on the validation data\n",
    "\n",
    "model_pred_probs = model.predict(x_test)\n",
    "model_pred_probs.shape, model_pred_probs[:10]"
   ]
  },
  {
   "cell_type": "code",
   "execution_count": 155,
   "metadata": {},
   "outputs": [
    {
     "data": {
      "text/plain": [
       "<tf.Tensor: shape=(10, 5), dtype=float32, numpy=\n",
       "array([[0., 1., 0., 0., 0.],\n",
       "       [0., 1., 0., 0., 0.],\n",
       "       [0., 0., 1., 0., 0.],\n",
       "       [0., 0., 1., 0., 0.],\n",
       "       [0., 0., 0., 1., 0.],\n",
       "       [0., 0., 1., 0., 0.],\n",
       "       [0., 0., 1., 0., 0.],\n",
       "       [0., 0., 0., 0., 0.],\n",
       "       [0., 0., 1., 0., 0.],\n",
       "       [0., 0., 0., 1., 0.]], dtype=float32)>"
      ]
     },
     "execution_count": 155,
     "metadata": {},
     "output_type": "execute_result"
    }
   ],
   "source": [
    "# Convert prediction probabilities to prediction classes\n",
    "\n",
    "model_preds = tf.squeeze(tf.round(model_pred_probs))\n",
    "model_preds[:10]"
   ]
  },
  {
   "cell_type": "code",
   "execution_count": 156,
   "metadata": {},
   "outputs": [],
   "source": [
    "from sklearn.metrics import accuracy_score, precision_recall_fscore_support\n",
    "\n",
    "def calculate_results(y_true, y_pred):\n",
    "\n",
    "    # Convert one-hot encoded labels to class labels\n",
    "    y_true_classes = np.argmax(y_true, axis=1) if len(y_true.shape) > 1 else y_true\n",
    "    y_pred_classes = np.argmax(y_pred, axis=1) if len(y_pred.shape) > 1 else y_pred\n",
    "\n",
    "    # Calculate model accuracy\n",
    "    model_accuracy = accuracy_score(y_true_classes, y_pred_classes) * 100\n",
    "    \n",
    "    # Calculate model precision, recall, and f1 score using \"weighted average\"\n",
    "    model_precision, model_recall, model_f1, _ = precision_recall_fscore_support(y_true_classes, y_pred_classes, average=\"weighted\")\n",
    "    model_results = {\"accuracy\": model_accuracy,\n",
    "                     \"precision\": model_precision,\n",
    "                     \"recall\": model_recall,\n",
    "                     \"f1\": model_f1}\n",
    "    return model_results"
   ]
  },
  {
   "cell_type": "code",
   "execution_count": 157,
   "metadata": {},
   "outputs": [
    {
     "data": {
      "text/plain": [
       "{'accuracy': 45.15235457063712,\n",
       " 'precision': 0.4457701534473915,\n",
       " 'recall': 0.4515235457063712,\n",
       " 'f1': 0.4431337435646222}"
      ]
     },
     "execution_count": 157,
     "metadata": {},
     "output_type": "execute_result"
    }
   ],
   "source": [
    "model_results = calculate_results(y_true=y_test, y_pred=model_preds)\n",
    "model_results"
   ]
  },
  {
   "cell_type": "markdown",
   "metadata": {},
   "source": [
    "Machine learning - Naive Bayes"
   ]
  },
  {
   "cell_type": "code",
   "execution_count": 158,
   "metadata": {},
   "outputs": [],
   "source": [
    "from sklearn.feature_extraction.text import TfidfVectorizer\n",
    "from sklearn.naive_bayes import MultinomialNB\n",
    "from sklearn.pipeline import Pipeline\n",
    "\n",
    "# Create a pipeline\n",
    "model_ml = Pipeline([\n",
    "  (\"tf-idf\", TfidfVectorizer()),\n",
    "  (\"clf\", MultinomialNB())\n",
    "])\n",
    "\n",
    "# Fit the pipeline to the training data\n",
    "model_ml.fit(X=x_train, \n",
    "            y=y_train);"
   ]
  },
  {
   "cell_type": "code",
   "execution_count": 159,
   "metadata": {},
   "outputs": [
    {
     "data": {
      "text/plain": [
       "0.4362880886426593"
      ]
     },
     "execution_count": 159,
     "metadata": {},
     "output_type": "execute_result"
    }
   ],
   "source": [
    "# Evaluate baseline on validation dataset\n",
    "\n",
    "model_ml.score(X=x_test,\n",
    "              y=y_test)"
   ]
  },
  {
   "cell_type": "code",
   "execution_count": 160,
   "metadata": {},
   "outputs": [
    {
     "data": {
      "text/plain": [
       "array([1, 1, 2, 2, 3, 2, 2, 1, 1, 3, 1, 1, 3, 1, 2, 2, 1, 1, 1, 1, 1, 1,\n",
       "       2, 1, 1, 1, 1, 1, 1, 1, 1, 1, 1, 1, 1, 1, 1, 1, 1, 1, 1, 1, 1, 1,\n",
       "       2, 1, 3, 1, 1, 1, 1, 1, 1, 1, 1, 1, 1, 1, 1, 1, 1, 1, 2, 1, 1, 1,\n",
       "       3, 1, 2, 1, 1, 1, 1, 1, 1, 1, 3, 1, 2, 1, 1, 1, 1, 1, 1, 1, 1, 1,\n",
       "       1, 1, 1, 1, 1, 1, 1, 1, 2, 3, 1, 1, 1, 1, 1, 1, 1, 1, 3, 1, 3, 1,\n",
       "       1, 1, 3, 2, 1, 1, 1, 1, 1, 1, 1, 1, 1, 1, 2, 3, 1, 1, 1, 2, 1, 1,\n",
       "       1, 1, 1, 1, 1, 3, 1, 1, 1, 1, 1, 1, 1, 3, 1, 1, 1, 3, 1, 1, 1, 1,\n",
       "       1, 2, 1, 1, 1, 2, 2, 1, 1, 1, 1, 1, 1, 1, 1, 1, 1, 1, 1, 1, 1, 1,\n",
       "       1, 3, 1, 1, 2, 1, 2, 1, 2, 1, 1, 1, 1, 1, 1, 1, 1, 1, 1, 1, 1, 1,\n",
       "       1, 1, 1, 3, 1, 1, 1, 2, 1, 3, 1, 1, 1, 2, 1, 2, 1, 1, 1, 1, 1, 1,\n",
       "       1, 1, 2, 3, 1, 2, 1, 1, 1, 1, 1, 1, 1, 1, 1, 3, 1, 3, 1, 1, 1, 1,\n",
       "       1, 1, 1, 1, 1, 1, 1, 1, 1, 1, 2, 1, 1, 1, 1, 1, 2, 3, 1, 2, 1, 1,\n",
       "       1, 1, 2, 1, 3, 1, 1, 1, 1, 1, 1, 1, 3, 2, 1, 1, 2, 1, 2, 1, 1, 1,\n",
       "       1, 1, 1, 2, 3, 1, 1, 1, 3, 2, 1, 1, 1, 1, 2, 1, 1, 1, 1, 1, 1, 1,\n",
       "       3, 2, 1, 3, 1, 1, 2, 3, 3, 2, 1, 1, 3, 1, 1, 1, 1, 1, 1, 1, 1, 1,\n",
       "       1, 1, 1, 1, 1, 3, 1, 1, 1, 1, 1, 2, 1, 1, 1, 1, 1, 1, 1, 3, 1, 1,\n",
       "       1, 1, 1, 1, 1, 1, 1, 1, 1, 1, 1, 1, 1, 1, 1, 1, 1, 1, 1, 3, 1, 1,\n",
       "       1, 3, 1, 1, 1, 2, 1, 1, 1, 3, 1, 2, 1, 1, 1, 1, 1, 3, 3, 1, 1, 1,\n",
       "       1, 1, 1, 3, 3, 3, 1, 1, 1, 1, 3, 1, 1, 1, 1, 1, 1, 1, 1, 1, 1, 1,\n",
       "       1, 2, 1, 1, 3, 1, 1, 1, 1, 1, 1, 1, 1, 1, 1, 1, 1, 1, 1, 1, 1, 2,\n",
       "       1, 1, 1, 1, 3, 1, 1, 1, 2, 1, 1, 1, 1, 1, 1, 1, 1, 1, 3, 1, 1, 1,\n",
       "       1, 1, 2, 1, 1, 1, 3, 1, 1, 1, 3, 1, 1, 3, 1, 1, 1, 1, 1, 1, 2, 2,\n",
       "       1, 1, 1, 1, 1, 3, 1, 1, 1, 1, 1, 1, 1, 1, 1, 1, 3, 3, 1, 2, 1, 1,\n",
       "       3, 1, 1, 2, 1, 1, 1, 2, 1, 1, 1, 1, 1, 1, 1, 1, 3, 2, 1, 1, 1, 1,\n",
       "       1, 1, 2, 1, 1, 1, 1, 1, 2, 2, 1, 1, 1, 1, 2, 1, 1, 3, 1, 1, 1, 1,\n",
       "       1, 1, 1, 1, 3, 1, 3, 1, 1, 1, 1, 1, 3, 1, 3, 1, 1, 1, 3, 1, 1, 1,\n",
       "       1, 1, 1, 1, 1, 1, 1, 1, 1, 1, 1, 2, 1, 3, 1, 3, 1, 1, 1, 3, 1, 1,\n",
       "       1, 1, 1, 1, 1, 1, 1, 1, 1, 1, 1, 1, 2, 1, 1, 1, 1, 1, 1, 1, 1, 1,\n",
       "       1, 1, 1, 3, 1, 1, 2, 1, 1, 3, 1, 1, 1, 3, 1, 1, 1, 1, 1, 1, 1, 1,\n",
       "       1, 3, 1, 3, 1, 1, 3, 1, 1, 1, 1, 1, 1, 1, 3, 1, 1, 1, 1, 1, 1, 2,\n",
       "       1, 1, 1, 1, 1, 1, 1, 1, 1, 1, 1, 1, 1, 3, 1, 3, 1, 3, 1, 1, 1, 1,\n",
       "       1, 2, 1, 1, 1, 1, 1, 1, 1, 1, 1, 1, 1, 1, 1, 3, 1, 1, 1, 1, 3, 3,\n",
       "       1, 1, 3, 1, 1, 1, 2, 1, 1, 1, 1, 1, 1, 1, 3, 1, 1, 2], dtype=int64)"
      ]
     },
     "execution_count": 160,
     "metadata": {},
     "output_type": "execute_result"
    }
   ],
   "source": [
    "# Make predictions\n",
    "ml_preds = model_ml.predict(x_test)\n",
    "ml_preds"
   ]
  },
  {
   "cell_type": "code",
   "execution_count": 161,
   "metadata": {},
   "outputs": [
    {
     "name": "stderr",
     "output_type": "stream",
     "text": [
      "c:\\Users\\kmnvz\\anaconda3\\envs\\my_env\\lib\\site-packages\\sklearn\\metrics\\_classification.py:1497: UndefinedMetricWarning: Precision is ill-defined and being set to 0.0 in labels with no predicted samples. Use `zero_division` parameter to control this behavior.\n",
      "  _warn_prf(average, modifier, f\"{metric.capitalize()} is\", len(result))\n"
     ]
    },
    {
     "data": {
      "text/plain": [
       "{'accuracy': 43.62880886426593,\n",
       " 'precision': 0.44259754821659436,\n",
       " 'recall': 0.4362880886426593,\n",
       " 'f1': 0.3679313383347805}"
      ]
     },
     "execution_count": 161,
     "metadata": {},
     "output_type": "execute_result"
    }
   ],
   "source": [
    "# Calculate baseline results\n",
    "ml_preds = calculate_results(y_true=y_test,\n",
    "                                     y_pred=ml_preds)\n",
    "ml_preds"
   ]
  },
  {
   "cell_type": "code",
   "execution_count": 162,
   "metadata": {},
   "outputs": [
    {
     "name": "stdout",
     "output_type": "stream",
     "text": [
      "23/23 [==============================] - 0s 5ms/step - loss: 1.4897 - accuracy: 0.4723\n",
      "Test Accuracy: 0.47229915857315063\n",
      "Test Loss: 1.4897369146347046\n"
     ]
    }
   ],
   "source": [
    "from tensorflow.keras.models import load_model\n",
    "\n",
    "# Load the best model\n",
    "best_model = load_model(\"./best_model.LSTM\")\n",
    "\n",
    "# Evaluate the best model on the test data\n",
    "evaluation_results = best_model.evaluate(x_test, y_test)\n",
    "\n",
    "# Print the evaluation results\n",
    "print(\"Test Accuracy:\", evaluation_results[1])\n",
    "print(\"Test Loss:\", evaluation_results[0])"
   ]
  }
 ],
 "metadata": {
  "kernelspec": {
   "display_name": "my_env",
   "language": "python",
   "name": "python3"
  },
  "language_info": {
   "codemirror_mode": {
    "name": "ipython",
    "version": 3
   },
   "file_extension": ".py",
   "mimetype": "text/x-python",
   "name": "python",
   "nbconvert_exporter": "python",
   "pygments_lexer": "ipython3",
   "version": "3.9.18"
  }
 },
 "nbformat": 4,
 "nbformat_minor": 2
}
